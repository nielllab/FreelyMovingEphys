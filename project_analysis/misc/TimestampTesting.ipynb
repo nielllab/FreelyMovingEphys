{
 "cells": [
  {
   "cell_type": "code",
   "execution_count": 5,
   "id": "foreign-emerald",
   "metadata": {},
   "outputs": [],
   "source": [
    "import os\n",
    "import argparse\n",
    "import glob\n",
    "import sys \n",
    "import yaml \n",
    "import glob\n",
    "\n",
    "import numpy as np\n",
    "import xarray as xr\n",
    "import pandas as pd\n",
    "import matplotlib.pyplot as plt \n",
    "from matplotlib.backends.backend_pdf import PdfPages\n",
    "\n",
    "from scipy import interpolate \n",
    "from scipy import signal\n",
    "\n",
    "from pathlib import Path\n",
    "sys.path.append(str(Path('.').absolute().parent.parent))\n",
    "from util.paths import find, list_subdirs\n",
    "from util.time import open_time\n",
    "\n",
    "import matplotlib as mpl\n",
    "mpl.rcParams.update({'font.size':         24,\n",
    "                     'axes.linewidth':    3,\n",
    "                     'xtick.major.size':  5,\n",
    "                     'xtick.major.width': 2,\n",
    "                     'ytick.major.size':  5,\n",
    "                     'ytick.major.width': 2,\n",
    "                     'axes.spines.right': False,\n",
    "                     'axes.spines.top':   False,\n",
    "                     'font.sans-serif':  \"Arial\",\n",
    "                     'font.family':      \"sans-serif\",\n",
    "                    })\n",
    "pd.set_option('display.max_rows', None)\n"
   ]
  },
  {
   "cell_type": "code",
   "execution_count": 3,
   "id": "powerful-insulin",
   "metadata": {},
   "outputs": [],
   "source": [
    "csv_path = '/home/seuss/Leviathan/T/freely_moving_ephys/ephys_recordings/071521/eabe_testing/NET_unin/071521_eabe_testing_control_Rig2_NET_unin_WORLD_BonsaiTS.csv'\n",
    "df = pd.read_csv(csv_path)"
   ]
  },
  {
   "cell_type": "code",
   "execution_count": 6,
   "id": "agreed-extension",
   "metadata": {},
   "outputs": [],
   "source": [
    "df = open_time(csv_path)"
   ]
  },
  {
   "cell_type": "code",
   "execution_count": 8,
   "id": "intended-christmas",
   "metadata": {},
   "outputs": [],
   "source": [
    "dt = np.diff(df)"
   ]
  },
  {
   "cell_type": "code",
   "execution_count": null,
   "id": "aboriginal-finish",
   "metadata": {},
   "outputs": [],
   "source": []
  }
 ],
 "metadata": {
  "kernelspec": {
   "display_name": "Python [conda env:DEEPLABCUT]",
   "language": "python",
   "name": "conda-env-DEEPLABCUT-py"
  },
  "language_info": {
   "codemirror_mode": {
    "name": "ipython",
    "version": 3
   },
   "file_extension": ".py",
   "mimetype": "text/x-python",
   "name": "python",
   "nbconvert_exporter": "python",
   "pygments_lexer": "ipython3",
   "version": "3.8.10"
  }
 },
 "nbformat": 4,
 "nbformat_minor": 5
}
