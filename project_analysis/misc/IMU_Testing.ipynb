{
 "cells": [
  {
   "cell_type": "code",
   "execution_count": 16,
   "metadata": {},
   "outputs": [
    {
     "name": "stdout",
     "output_type": "stream",
     "text": [
      "KeysView(<xarray.Dataset>\n",
      "Dimensions:     (channel: 544318, sample: 6)\n",
      "Coordinates:\n",
      "  * channel     (channel) int64 0 100 200 300 ... 54431500 54431600 54431700\n",
      "  * sample      (sample) object 'acc_x' 'acc_y' 'acc_z' ... 'gyro_y' 'gyro_z'\n",
      "    timestamps  (channel) float64 ...\n",
      "Data variables:\n",
      "    IMU_data    (channel, sample) float64 ...)\n"
     ]
    }
   ],
   "source": [
    "import xarray as xr\n",
    "import numpy as np\n",
    "import matplotlib.pyplot as plt\n",
    "import os \n",
    "\n",
    "# 1. opening the data\n",
    "file = os.path.normpath(r'T:\\\\freely_moving_ephys\\ephys_recordings\\031021\\EE11P13LTRN\\fm1\\031021_EE11P13LTRN_control_Rig2_fm1_imu.nc')\n",
    "with xr.open_dataset(file) as ds: \n",
    "    print(ds.keys())\n",
    "\n",
    "data = ds.IMU_data ### saves the Datasets DataArray\n",
    "\n",
    "# 2. Time\n",
    "\n",
    "timestamps = data.coords['timestamps'] ### seconds past midnight\n",
    "\n",
    "diff = np.diff(timestamps) ### gives the difference between timestamps (in seconds)\n",
    "\n",
    "t = np.zeros([len(timestamps),1]) ### gives a list of seconds over trial period\n",
    "for i in range(len(diff)):\n",
    "    t[1+i] = t[i] + diff[i]\n",
    "\n",
    "# 3. Isolating acceleration and gyro measurments (volts)\n",
    "acc = data[:,0:3]\n",
    "gyro = data[:,3:6]\n",
    "\n",
    "# 4. Converting acceleration and gyro units\n",
    "gyro = (gyro-np.mean(gyro))*(400) ### 1V = 400deg/sec ... mean(gyro) centers data around 0\n",
    "\n",
    "acc = (acc-2.5)*1.6 # convert to: g = m/s^2\n",
    "\n",
    "# 5. Saving Acc and Gyro as ndarrays\n",
    "acc = acc.data\n",
    "gyro = gyro.data"
   ]
  },
  {
   "cell_type": "code",
   "execution_count": 10,
   "metadata": {},
   "outputs": [],
   "source": [
    "import typing\n",
    "from time import time\n",
    "\n",
    "from scipy.spatial import distance\n",
    "from scipy.spatial.transform import Rotation as R\n",
    "from scipy.optimize import curve_fit\n",
    "\n",
    "from autopilot.transform.geometry import IMU_Orientation"
   ]
  },
  {
   "cell_type": "code",
   "execution_count": 11,
   "metadata": {},
   "outputs": [
    {
     "name": "stderr",
     "output_type": "stream",
     "text": [
      "c:\\users\\niell lab\\documents\\github\\autopilot\\autopilot\\prefs.py:399: UserWarning: Returning default prefs value LOGLEVEL : WARNING (ideally this shouldnt happen and everything should be specified in prefs\n",
      "  warnings.warn(f'Returning default prefs value {key} : {default_val} (ideally this shouldnt happen and everything should be specified in prefs', UserWarning)\n",
      "c:\\users\\niell lab\\documents\\github\\autopilot\\autopilot\\prefs.py:399: UserWarning: Returning default prefs value LOGDIR : C:\\Users\\Niell Lab\\autopilot\\logs (ideally this shouldnt happen and everything should be specified in prefs\n",
      "  warnings.warn(f'Returning default prefs value {key} : {default_val} (ideally this shouldnt happen and everything should be specified in prefs', UserWarning)\n",
      "c:\\users\\niell lab\\documents\\github\\autopilot\\autopilot\\prefs.py:399: UserWarning: Returning default prefs value LOGSIZE : 5242880 (ideally this shouldnt happen and everything should be specified in prefs\n",
      "  warnings.warn(f'Returning default prefs value {key} : {default_val} (ideally this shouldnt happen and everything should be specified in prefs', UserWarning)\n",
      "c:\\users\\niell lab\\documents\\github\\autopilot\\autopilot\\prefs.py:399: UserWarning: Returning default prefs value LOGNUM : 4 (ideally this shouldnt happen and everything should be specified in prefs\n",
      "  warnings.warn(f'Returning default prefs value {key} : {default_val} (ideally this shouldnt happen and everything should be specified in prefs', UserWarning)\n"
     ]
    }
   ],
   "source": [
    "IMU = IMU_Orientation()"
   ]
  },
  {
   "cell_type": "code",
   "execution_count": 12,
   "metadata": {},
   "outputs": [],
   "source": [
    "def IMU_roll_pitch(acceleration, gyroscope): ### input two ndarrays for acc and gyro data\n",
    "    if len(acceleration) == len(gyroscope):\n",
    "        roll_pitch = np.zeros([len(acc),2])\n",
    "        for x in range(len(acceleration)):\n",
    "            roll_pitch[x,:] = IMU.process((acceleration[x,:],gyroscope[x,:]))### update by row\n",
    "        return(roll_pitch)\n",
    "    else:\n",
    "        print('acc or gyro error: input arguments must be of equal size')"
   ]
  },
  {
   "cell_type": "code",
   "execution_count": 13,
   "metadata": {},
   "outputs": [],
   "source": [
    "RPT = np.append(IMU_roll_pitch(acc,gyro), t , axis=1) ### columns = Roll/Pitch/Time"
   ]
  },
  {
   "cell_type": "code",
   "execution_count": 101,
   "metadata": {},
   "outputs": [],
   "source": [
    "ori = IMU_roll_pitch(acc,gyro)"
   ]
  },
  {
   "cell_type": "code",
   "execution_count": null,
   "metadata": {},
   "outputs": [],
   "source": []
  },
  {
   "cell_type": "code",
   "execution_count": 102,
   "metadata": {},
   "outputs": [
    {
     "data": {
      "text/plain": [
       "(544318, 2)"
      ]
     },
     "execution_count": 102,
     "metadata": {},
     "output_type": "execute_result"
    }
   ],
   "source": [
    "ori.shape"
   ]
  },
  {
   "cell_type": "code",
   "execution_count": 104,
   "metadata": {},
   "outputs": [
    {
     "data": {
      "text/plain": [
       "[<matplotlib.lines.Line2D at 0x1f2db84be48>]"
      ]
     },
     "execution_count": 104,
     "metadata": {},
     "output_type": "execute_result"
    },
    {
     "data": {
      "image/png": "[encoded data removed]",
      "text/plain": [
       "<Figure size 432x288 with 1 Axes>"
      ]
     },
     "metadata": {
      "needs_background": "light"
     },
     "output_type": "display_data"
    }
   ],
   "source": [
    "plt.plot(t,ori[:,0])"
   ]
  },
  {
   "cell_type": "code",
   "execution_count": 19,
   "metadata": {},
   "outputs": [],
   "source": [
    "file2 = os.path.normpath(r'T:\\\\freely_moving_ephys\\ephys_recordings\\031021\\EE11P13LTRN\\fm1\\031021_EE11P13LTRN_control_Rig2_fm1_TOP1.nc')\n",
    "top = xr.open_dataset(file2) "
   ]
  },
  {
   "cell_type": "code",
   "execution_count": 41,
   "metadata": {},
   "outputs": [
    {
     "data": {
      "text/html": [
       "<div><svg style=\"position: absolute; width: 0; height: 0; overflow: hidden\">\n",
       "<defs>\n",
       "<symbol id=\"icon-database\" viewBox=\"0 0 32 32\">\n",
       "<path d=\"M16 0c-8.837 0-16 2.239-16 5v4c0 2.761 7.163 5 16 5s16-2.239 16-5v-4c0-2.761-7.163-5-16-5z\"></path>\n",
       "<path d=\"M16 17c-8.837 0-16-2.239-16-5v6c0 2.761 7.163 5 16 5s16-2.239 16-5v-6c0 2.761-7.163 5-16 5z\"></path>\n",
       "<path d=\"M16 26c-8.837 0-16-2.239-16-5v6c0 2.761 7.163 5 16 5s16-2.239 16-5v-6c0 2.761-7.163 5-16 5z\"></path>\n",
       "</symbol>\n",
       "<symbol id=\"icon-file-text2\" viewBox=\"0 0 32 32\">\n",
       "<path d=\"M28.681 7.159c-0.694-0.947-1.662-2.053-2.724-3.116s-2.169-2.030-3.116-2.724c-1.612-1.182-2.393-1.319-2.841-1.319h-15.5c-1.378 0-2.5 1.121-2.5 2.5v27c0 1.378 1.122 2.5 2.5 2.5h23c1.378 0 2.5-1.122 2.5-2.5v-19.5c0-0.448-0.137-1.23-1.319-2.841zM24.543 5.457c0.959 0.959 1.712 1.825 2.268 2.543h-4.811v-4.811c0.718 0.556 1.584 1.309 2.543 2.268zM28 29.5c0 0.271-0.229 0.5-0.5 0.5h-23c-0.271 0-0.5-0.229-0.5-0.5v-27c0-0.271 0.229-0.5 0.5-0.5 0 0 15.499-0 15.5 0v7c0 0.552 0.448 1 1 1h7v19.5z\"></path>\n",
       "<path d=\"M23 26h-14c-0.552 0-1-0.448-1-1s0.448-1 1-1h14c0.552 0 1 0.448 1 1s-0.448 1-1 1z\"></path>\n",
       "<path d=\"M23 22h-14c-0.552 0-1-0.448-1-1s0.448-1 1-1h14c0.552 0 1 0.448 1 1s-0.448 1-1 1z\"></path>\n",
       "<path d=\"M23 18h-14c-0.552 0-1-0.448-1-1s0.448-1 1-1h14c0.552 0 1 0.448 1 1s-0.448 1-1 1z\"></path>\n",
       "</symbol>\n",
       "</defs>\n",
       "</svg>\n",
       "<style>/* CSS stylesheet for displaying xarray objects in jupyterlab.\n",
       " *\n",
       " */\n",
       "\n",
       ":root {\n",
       "  --xr-font-color0: var(--jp-content-font-color0, rgba(0, 0, 0, 1));\n",
       "  --xr-font-color2: var(--jp-content-font-color2, rgba(0, 0, 0, 0.54));\n",
       "  --xr-font-color3: var(--jp-content-font-color3, rgba(0, 0, 0, 0.38));\n",
       "  --xr-border-color: var(--jp-border-color2, #e0e0e0);\n",
       "  --xr-disabled-color: var(--jp-layout-color3, #bdbdbd);\n",
       "  --xr-background-color: var(--jp-layout-color0, white);\n",
       "  --xr-background-color-row-even: var(--jp-layout-color1, white);\n",
       "  --xr-background-color-row-odd: var(--jp-layout-color2, #eeeeee);\n",
       "}\n",
       "\n",
       "html[theme=dark],\n",
       "body.vscode-dark {\n",
       "  --xr-font-color0: rgba(255, 255, 255, 1);\n",
       "  --xr-font-color2: rgba(255, 255, 255, 0.54);\n",
       "  --xr-font-color3: rgba(255, 255, 255, 0.38);\n",
       "  --xr-border-color: #1F1F1F;\n",
       "  --xr-disabled-color: #515151;\n",
       "  --xr-background-color: #111111;\n",
       "  --xr-background-color-row-even: #111111;\n",
       "  --xr-background-color-row-odd: #313131;\n",
       "}\n",
       "\n",
       ".xr-wrap {\n",
       "  display: block;\n",
       "  min-width: 300px;\n",
       "  max-width: 700px;\n",
       "}\n",
       "\n",
       ".xr-text-repr-fallback {\n",
       "  /* fallback to plain text repr when CSS is not injected (untrusted notebook) */\n",
       "  display: none;\n",
       "}\n",
       "\n",
       ".xr-header {\n",
       "  padding-top: 6px;\n",
       "  padding-bottom: 6px;\n",
       "  margin-bottom: 4px;\n",
       "  border-bottom: solid 1px var(--xr-border-color);\n",
       "}\n",
       "\n",
       ".xr-header > div,\n",
       ".xr-header > ul {\n",
       "  display: inline;\n",
       "  margin-top: 0;\n",
       "  margin-bottom: 0;\n",
       "}\n",
       "\n",
       ".xr-obj-type,\n",
       ".xr-array-name {\n",
       "  margin-left: 2px;\n",
       "  margin-right: 10px;\n",
       "}\n",
       "\n",
       ".xr-obj-type {\n",
       "  color: var(--xr-font-color2);\n",
       "}\n",
       "\n",
       ".xr-sections {\n",
       "  padding-left: 0 !important;\n",
       "  display: grid;\n",
       "  grid-template-columns: 150px auto auto 1fr 20px 20px;\n",
       "}\n",
       "\n",
       ".xr-section-item {\n",
       "  display: contents;\n",
       "}\n",
       "\n",
       ".xr-section-item input {\n",
       "  display: none;\n",
       "}\n",
       "\n",
       ".xr-section-item input + label {\n",
       "  color: var(--xr-disabled-color);\n",
       "}\n",
       "\n",
       ".xr-section-item input:enabled + label {\n",
       "  cursor: pointer;\n",
       "  color: var(--xr-font-color2);\n",
       "}\n",
       "\n",
       ".xr-section-item input:enabled + label:hover {\n",
       "  color: var(--xr-font-color0);\n",
       "}\n",
       "\n",
       ".xr-section-summary {\n",
       "  grid-column: 1;\n",
       "  color: var(--xr-font-color2);\n",
       "  font-weight: 500;\n",
       "}\n",
       "\n",
       ".xr-section-summary > span {\n",
       "  display: inline-block;\n",
       "  padding-left: 0.5em;\n",
       "}\n",
       "\n",
       ".xr-section-summary-in:disabled + label {\n",
       "  color: var(--xr-font-color2);\n",
       "}\n",
       "\n",
       ".xr-section-summary-in + label:before {\n",
       "  display: inline-block;\n",
       "  content: '►';\n",
       "  font-size: 11px;\n",
       "  width: 15px;\n",
       "  text-align: center;\n",
       "}\n",
       "\n",
       ".xr-section-summary-in:disabled + label:before {\n",
       "  color: var(--xr-disabled-color);\n",
       "}\n",
       "\n",
       ".xr-section-summary-in:checked + label:before {\n",
       "  content: '▼';\n",
       "}\n",
       "\n",
       ".xr-section-summary-in:checked + label > span {\n",
       "  display: none;\n",
       "}\n",
       "\n",
       ".xr-section-summary,\n",
       ".xr-section-inline-details {\n",
       "  padding-top: 4px;\n",
       "  padding-bottom: 4px;\n",
       "}\n",
       "\n",
       ".xr-section-inline-details {\n",
       "  grid-column: 2 / -1;\n",
       "}\n",
       "\n",
       ".xr-section-details {\n",
       "  display: none;\n",
       "  grid-column: 1 / -1;\n",
       "  margin-bottom: 5px;\n",
       "}\n",
       "\n",
       ".xr-section-summary-in:checked ~ .xr-section-details {\n",
       "  display: contents;\n",
       "}\n",
       "\n",
       ".xr-array-wrap {\n",
       "  grid-column: 1 / -1;\n",
       "  display: grid;\n",
       "  grid-template-columns: 20px auto;\n",
       "}\n",
       "\n",
       ".xr-array-wrap > label {\n",
       "  grid-column: 1;\n",
       "  vertical-align: top;\n",
       "}\n",
       "\n",
       ".xr-preview {\n",
       "  color: var(--xr-font-color3);\n",
       "}\n",
       "\n",
       ".xr-array-preview,\n",
       ".xr-array-data {\n",
       "  padding: 0 5px !important;\n",
       "  grid-column: 2;\n",
       "}\n",
       "\n",
       ".xr-array-data,\n",
       ".xr-array-in:checked ~ .xr-array-preview {\n",
       "  display: none;\n",
       "}\n",
       "\n",
       ".xr-array-in:checked ~ .xr-array-data,\n",
       ".xr-array-preview {\n",
       "  display: inline-block;\n",
       "}\n",
       "\n",
       ".xr-dim-list {\n",
       "  display: inline-block !important;\n",
       "  list-style: none;\n",
       "  padding: 0 !important;\n",
       "  margin: 0;\n",
       "}\n",
       "\n",
       ".xr-dim-list li {\n",
       "  display: inline-block;\n",
       "  padding: 0;\n",
       "  margin: 0;\n",
       "}\n",
       "\n",
       ".xr-dim-list:before {\n",
       "  content: '(';\n",
       "}\n",
       "\n",
       ".xr-dim-list:after {\n",
       "  content: ')';\n",
       "}\n",
       "\n",
       ".xr-dim-list li:not(:last-child):after {\n",
       "  content: ',';\n",
       "  padding-right: 5px;\n",
       "}\n",
       "\n",
       ".xr-has-index {\n",
       "  font-weight: bold;\n",
       "}\n",
       "\n",
       ".xr-var-list,\n",
       ".xr-var-item {\n",
       "  display: contents;\n",
       "}\n",
       "\n",
       ".xr-var-item > div,\n",
       ".xr-var-item label,\n",
       ".xr-var-item > .xr-var-name span {\n",
       "  background-color: var(--xr-background-color-row-even);\n",
       "  margin-bottom: 0;\n",
       "}\n",
       "\n",
       ".xr-var-item > .xr-var-name:hover span {\n",
       "  padding-right: 5px;\n",
       "}\n",
       "\n",
       ".xr-var-list > li:nth-child(odd) > div,\n",
       ".xr-var-list > li:nth-child(odd) > label,\n",
       ".xr-var-list > li:nth-child(odd) > .xr-var-name span {\n",
       "  background-color: var(--xr-background-color-row-odd);\n",
       "}\n",
       "\n",
       ".xr-var-name {\n",
       "  grid-column: 1;\n",
       "}\n",
       "\n",
       ".xr-var-dims {\n",
       "  grid-column: 2;\n",
       "}\n",
       "\n",
       ".xr-var-dtype {\n",
       "  grid-column: 3;\n",
       "  text-align: right;\n",
       "  color: var(--xr-font-color2);\n",
       "}\n",
       "\n",
       ".xr-var-preview {\n",
       "  grid-column: 4;\n",
       "}\n",
       "\n",
       ".xr-var-name,\n",
       ".xr-var-dims,\n",
       ".xr-var-dtype,\n",
       ".xr-preview,\n",
       ".xr-attrs dt {\n",
       "  white-space: nowrap;\n",
       "  overflow: hidden;\n",
       "  text-overflow: ellipsis;\n",
       "  padding-right: 10px;\n",
       "}\n",
       "\n",
       ".xr-var-name:hover,\n",
       ".xr-var-dims:hover,\n",
       ".xr-var-dtype:hover,\n",
       ".xr-attrs dt:hover {\n",
       "  overflow: visible;\n",
       "  width: auto;\n",
       "  z-index: 1;\n",
       "}\n",
       "\n",
       ".xr-var-attrs,\n",
       ".xr-var-data {\n",
       "  display: none;\n",
       "  background-color: var(--xr-background-color) !important;\n",
       "  padding-bottom: 5px !important;\n",
       "}\n",
       "\n",
       ".xr-var-attrs-in:checked ~ .xr-var-attrs,\n",
       ".xr-var-data-in:checked ~ .xr-var-data {\n",
       "  display: block;\n",
       "}\n",
       "\n",
       ".xr-var-data > table {\n",
       "  float: right;\n",
       "}\n",
       "\n",
       ".xr-var-name span,\n",
       ".xr-var-data,\n",
       ".xr-attrs {\n",
       "  padding-left: 25px !important;\n",
       "}\n",
       "\n",
       ".xr-attrs,\n",
       ".xr-var-attrs,\n",
       ".xr-var-data {\n",
       "  grid-column: 1 / -1;\n",
       "}\n",
       "\n",
       "dl.xr-attrs {\n",
       "  padding: 0;\n",
       "  margin: 0;\n",
       "  display: grid;\n",
       "  grid-template-columns: 125px auto;\n",
       "}\n",
       "\n",
       ".xr-attrs dt,\n",
       ".xr-attrs dd {\n",
       "  padding: 0;\n",
       "  margin: 0;\n",
       "  float: left;\n",
       "  padding-right: 10px;\n",
       "  width: auto;\n",
       "}\n",
       "\n",
       ".xr-attrs dt {\n",
       "  font-weight: normal;\n",
       "  grid-column: 1;\n",
       "}\n",
       "\n",
       ".xr-attrs dt:hover span {\n",
       "  display: inline-block;\n",
       "  background: var(--xr-background-color);\n",
       "  padding-right: 10px;\n",
       "}\n",
       "\n",
       ".xr-attrs dd {\n",
       "  grid-column: 2;\n",
       "  white-space: pre-wrap;\n",
       "  word-break: break-all;\n",
       "}\n",
       "\n",
       ".xr-icon-database,\n",
       ".xr-icon-file-text2 {\n",
       "  display: inline-block;\n",
       "  vertical-align: middle;\n",
       "  width: 1em;\n",
       "  height: 1.5em !important;\n",
       "  stroke-width: 0;\n",
       "  stroke: currentColor;\n",
       "  fill: currentColor;\n",
       "}\n",
       "</style><pre class='xr-text-repr-fallback'>&lt;xarray.DataArray &#x27;TOP1_pts&#x27; (point_loc: 48, frame: 108873)&gt;\n",
       "[5225904 values with dtype=float64]\n",
       "Coordinates:\n",
       "  * frame       (frame) int64 0 1 2 3 4 5 ... 108868 108869 108870 108871 108872\n",
       "  * point_loc   (point_loc) object &#x27;nose_x&#x27; &#x27;nose_y&#x27; ... &#x27;BRcorner_likelihood&#x27;\n",
       "    timestamps  (frame) float64 ...\n",
       "    trial       &lt;U40 &#x27;031021_EE11P13LTRN_control_Rig2_fm1_TOP1&#x27;</pre><div class='xr-wrap' hidden><div class='xr-header'><div class='xr-obj-type'>xarray.DataArray</div><div class='xr-array-name'>'TOP1_pts'</div><ul class='xr-dim-list'><li><span class='xr-has-index'>point_loc</span>: 48</li><li><span class='xr-has-index'>frame</span>: 108873</li></ul></div><ul class='xr-sections'><li class='xr-section-item'><div class='xr-array-wrap'><input id='section-dd585119-724d-4f29-8dd2-6fe078d8b93d' class='xr-array-in' type='checkbox' checked><label for='section-dd585119-724d-4f29-8dd2-6fe078d8b93d' title='Show/hide data repr'><svg class='icon xr-icon-database'><use xlink:href='#icon-database'></use></svg></label><div class='xr-array-preview xr-preview'><span>...</span></div><div class='xr-array-data'><pre>[5225904 values with dtype=float64]</pre></div></div></li><li class='xr-section-item'><input id='section-ba15db93-9d6f-4719-ad73-6fa5ed02a513' class='xr-section-summary-in' type='checkbox'  checked><label for='section-ba15db93-9d6f-4719-ad73-6fa5ed02a513' class='xr-section-summary' >Coordinates: <span>(4)</span></label><div class='xr-section-inline-details'></div><div class='xr-section-details'><ul class='xr-var-list'><li class='xr-var-item'><div class='xr-var-name'><span class='xr-has-index'>frame</span></div><div class='xr-var-dims'>(frame)</div><div class='xr-var-dtype'>int64</div><div class='xr-var-preview xr-preview'>0 1 2 3 ... 108870 108871 108872</div><input id='attrs-562c3971-7c06-4077-aef0-02c0986345c3' class='xr-var-attrs-in' type='checkbox' disabled><label for='attrs-562c3971-7c06-4077-aef0-02c0986345c3' title='Show/Hide attributes'><svg class='icon xr-icon-file-text2'><use xlink:href='#icon-file-text2'></use></svg></label><input id='data-d87227c9-e4c1-4036-bd76-7e0ebe851783' class='xr-var-data-in' type='checkbox'><label for='data-d87227c9-e4c1-4036-bd76-7e0ebe851783' title='Show/Hide data repr'><svg class='icon xr-icon-database'><use xlink:href='#icon-database'></use></svg></label><div class='xr-var-attrs'><dl class='xr-attrs'></dl></div><div class='xr-var-data'><pre>array([     0,      1,      2, ..., 108870, 108871, 108872], dtype=int64)</pre></div></li><li class='xr-var-item'><div class='xr-var-name'><span class='xr-has-index'>point_loc</span></div><div class='xr-var-dims'>(point_loc)</div><div class='xr-var-dtype'>object</div><div class='xr-var-preview xr-preview'>&#x27;nose_x&#x27; ... &#x27;BRcorner_likelihood&#x27;</div><input id='attrs-67e53e15-8dc7-4905-bb33-9c87fb25f91b' class='xr-var-attrs-in' type='checkbox' disabled><label for='attrs-67e53e15-8dc7-4905-bb33-9c87fb25f91b' title='Show/Hide attributes'><svg class='icon xr-icon-file-text2'><use xlink:href='#icon-file-text2'></use></svg></label><input id='data-b24936eb-e769-4771-a394-8ce3a634f65b' class='xr-var-data-in' type='checkbox'><label for='data-b24936eb-e769-4771-a394-8ce3a634f65b' title='Show/Hide data repr'><svg class='icon xr-icon-database'><use xlink:href='#icon-database'></use></svg></label><div class='xr-var-attrs'><dl class='xr-attrs'></dl></div><div class='xr-var-data'><pre>array([&#x27;nose_x&#x27;, &#x27;nose_y&#x27;, &#x27;nose_likelihood&#x27;, &#x27;leftear_x&#x27;, &#x27;leftear_y&#x27;,\n",
       "       &#x27;leftear_likelihood&#x27;, &#x27;rightear_x&#x27;, &#x27;rightear_y&#x27;, &#x27;rightear_likelihood&#x27;,\n",
       "       &#x27;spine_x&#x27;, &#x27;spine_y&#x27;, &#x27;spine_likelihood&#x27;, &#x27;spine2_x&#x27;, &#x27;spine2_y&#x27;,\n",
       "       &#x27;spine2_likelihood&#x27;, &#x27;tailbase_x&#x27;, &#x27;tailbase_y&#x27;, &#x27;tailbase_likelihood&#x27;,\n",
       "       &#x27;tail1_x&#x27;, &#x27;tail1_y&#x27;, &#x27;tail1_likelihood&#x27;, &#x27;tail2_x&#x27;, &#x27;tail2_y&#x27;,\n",
       "       &#x27;tail2_likelihood&#x27;, &#x27;eyecam_x&#x27;, &#x27;eyecam_y&#x27;, &#x27;eyecam_likelihood&#x27;,\n",
       "       &#x27;base_headstage_x&#x27;, &#x27;base_headstage_y&#x27;, &#x27;base_headstage_likelihood&#x27;,\n",
       "       &#x27;base_implant_x&#x27;, &#x27;base_implant_y&#x27;, &#x27;base_implant_likelihood&#x27;,\n",
       "       &#x27;ir_light_x&#x27;, &#x27;ir_light_y&#x27;, &#x27;ir_light_likelihood&#x27;, &#x27;TLcorner_x&#x27;,\n",
       "       &#x27;TLcorner_y&#x27;, &#x27;TLcorner_likelihood&#x27;, &#x27;TRcorner_x&#x27;, &#x27;TRcorner_y&#x27;,\n",
       "       &#x27;TRcorner_likelihood&#x27;, &#x27;BLcorner_x&#x27;, &#x27;BLcorner_y&#x27;,\n",
       "       &#x27;BLcorner_likelihood&#x27;, &#x27;BRcorner_x&#x27;, &#x27;BRcorner_y&#x27;,\n",
       "       &#x27;BRcorner_likelihood&#x27;], dtype=object)</pre></div></li><li class='xr-var-item'><div class='xr-var-name'><span>timestamps</span></div><div class='xr-var-dims'>(frame)</div><div class='xr-var-dtype'>float64</div><div class='xr-var-preview xr-preview'>...</div><input id='attrs-6fd074aa-5e40-4118-b95f-b0a8a256c074' class='xr-var-attrs-in' type='checkbox' disabled><label for='attrs-6fd074aa-5e40-4118-b95f-b0a8a256c074' title='Show/Hide attributes'><svg class='icon xr-icon-file-text2'><use xlink:href='#icon-file-text2'></use></svg></label><input id='data-c6f43e55-fcf8-48a1-a0b8-adb6d9f01c55' class='xr-var-data-in' type='checkbox'><label for='data-c6f43e55-fcf8-48a1-a0b8-adb6d9f01c55' title='Show/Hide data repr'><svg class='icon xr-icon-database'><use xlink:href='#icon-database'></use></svg></label><div class='xr-var-attrs'><dl class='xr-attrs'></dl></div><div class='xr-var-data'><pre>[108873 values with dtype=float64]</pre></div></li><li class='xr-var-item'><div class='xr-var-name'><span>trial</span></div><div class='xr-var-dims'>()</div><div class='xr-var-dtype'>&lt;U40</div><div class='xr-var-preview xr-preview'>&#x27;031021_EE11P13LTRN_control_Rig2...</div><input id='attrs-ae471fdb-994a-4977-8485-e75bcc11a839' class='xr-var-attrs-in' type='checkbox' disabled><label for='attrs-ae471fdb-994a-4977-8485-e75bcc11a839' title='Show/Hide attributes'><svg class='icon xr-icon-file-text2'><use xlink:href='#icon-file-text2'></use></svg></label><input id='data-d16c54da-460d-408e-8201-981838754a25' class='xr-var-data-in' type='checkbox'><label for='data-d16c54da-460d-408e-8201-981838754a25' title='Show/Hide data repr'><svg class='icon xr-icon-database'><use xlink:href='#icon-database'></use></svg></label><div class='xr-var-attrs'><dl class='xr-attrs'></dl></div><div class='xr-var-data'><pre>array(&#x27;031021_EE11P13LTRN_control_Rig2_fm1_TOP1&#x27;, dtype=&#x27;&lt;U40&#x27;)</pre></div></li></ul></div></li><li class='xr-section-item'><input id='section-643c2903-f865-4489-bd45-df8119dd779f' class='xr-section-summary-in' type='checkbox' disabled ><label for='section-643c2903-f865-4489-bd45-df8119dd779f' class='xr-section-summary'  title='Expand/collapse section'>Attributes: <span>(0)</span></label><div class='xr-section-inline-details'></div><div class='xr-section-details'><dl class='xr-attrs'></dl></div></li></ul></div></div>"
      ],
      "text/plain": [
       "<xarray.DataArray 'TOP1_pts' (point_loc: 48, frame: 108873)>\n",
       "[5225904 values with dtype=float64]\n",
       "Coordinates:\n",
       "  * frame       (frame) int64 0 1 2 3 4 5 ... 108868 108869 108870 108871 108872\n",
       "  * point_loc   (point_loc) object 'nose_x' 'nose_y' ... 'BRcorner_likelihood'\n",
       "    timestamps  (frame) float64 ...\n",
       "    trial       <U40 '031021_EE11P13LTRN_control_Rig2_fm1_TOP1'"
      ]
     },
     "execution_count": 41,
     "metadata": {},
     "output_type": "execute_result"
    }
   ],
   "source": [
    "top['TOP1_pts']"
   ]
  },
  {
   "cell_type": "code",
   "execution_count": 44,
   "metadata": {},
   "outputs": [],
   "source": [
    "learx = top['TOP1_pts'].sel(point_loc='leftear_x').data\n",
    "leary = top['TOP1_pts'].sel(point_loc='leftear_y').data\n",
    "rearx = top['TOP1_pts'].sel(point_loc='rightear_x').data\n",
    "reary = top['TOP1_pts'].sel(point_loc='rightear_y').data"
   ]
  },
  {
   "cell_type": "code",
   "execution_count": 68,
   "metadata": {},
   "outputs": [
    {
     "name": "stdout",
     "output_type": "stream",
     "text": [
      "[260.92788696 266.39358521] [203.07647705 183.68247986]\n"
     ]
    }
   ],
   "source": [
    "eliney = np.array([leary,reary])\n",
    "elinex = np.array([learx,rearx])\n",
    "print(eliney[:,dt],elinex[:,dt])"
   ]
  },
  {
   "cell_type": "code",
   "execution_count": 71,
   "metadata": {},
   "outputs": [
    {
     "data": {
      "text/plain": [
       "[<matplotlib.lines.Line2D at 0x1f26f0b36c8>,\n",
       " <matplotlib.lines.Line2D at 0x1f26f0b5208>,\n",
       " <matplotlib.lines.Line2D at 0x1f26f0b5448>,\n",
       " <matplotlib.lines.Line2D at 0x1f26f0b55c8>,\n",
       " <matplotlib.lines.Line2D at 0x1f26f0b5788>,\n",
       " <matplotlib.lines.Line2D at 0x1f26f0b59c8>,\n",
       " <matplotlib.lines.Line2D at 0x1f26f0b53c8>,\n",
       " <matplotlib.lines.Line2D at 0x1f26f0b5cc8>,\n",
       " <matplotlib.lines.Line2D at 0x1f26ecfd608>,\n",
       " <matplotlib.lines.Line2D at 0x1f26f0b5948>]"
      ]
     },
     "execution_count": 71,
     "metadata": {},
     "output_type": "execute_result"
    },
    {
     "data": {
      "image/png": "[encoded data removed]",
      "text/plain": [
       "<Figure size 432x288 with 1 Axes>"
      ]
     },
     "metadata": {
      "needs_background": "light"
     },
     "output_type": "display_data"
    }
   ],
   "source": [
    "dt = 10\n",
    "plt.plot(leary[:dt],learx[:dt], '.-')\n",
    "plt.plot(reary[:dt],rearx[:dt], '.-')\n",
    "plt.plot(eliney[:,:dt],elinex[:,:dt])\n",
    "\n",
    "# plt.plot([leary[:dt],reary[:dt]],[learx[:dt],rearx[:dt]])"
   ]
  },
  {
   "cell_type": "code",
   "execution_count": null,
   "metadata": {},
   "outputs": [],
   "source": []
  },
  {
   "cell_type": "code",
   "execution_count": 100,
   "metadata": {},
   "outputs": [
    {
     "data": {
      "text/plain": [
       "[<matplotlib.lines.Line2D at 0x1f2db4e1548>]"
      ]
     },
     "execution_count": 100,
     "metadata": {},
     "output_type": "execute_result"
    },
    {
     "data": {
      "image/png": "[encoded data removed]",
      "text/plain": [
       "<Figure size 432x288 with 1 Axes>"
      ]
     },
     "metadata": {
      "needs_background": "light"
     },
     "output_type": "display_data"
    }
   ],
   "source": [
    "headang = np.arctan2(eliney[0]-eliney[1],elinex[0]-elinex[1])*180/(2*np.pi)\n",
    "plt.plot(RPT[:1000,-1],headang[:1000])\n",
    "plt.plot(RPT[:1000,-1],RPT[:1000,1])\n",
    "# plt.show()"
   ]
  },
  {
   "cell_type": "code",
   "execution_count": 86,
   "metadata": {},
   "outputs": [
    {
     "data": {
      "text/plain": [
       "(108873,)"
      ]
     },
     "execution_count": 86,
     "metadata": {},
     "output_type": "execute_result"
    }
   ],
   "source": [
    "headang.shape"
   ]
  },
  {
   "cell_type": "code",
   "execution_count": 81,
   "metadata": {},
   "outputs": [
    {
     "data": {
      "text/plain": [
       "<matplotlib.image.AxesImage at 0x1f26f76d208>"
      ]
     },
     "execution_count": 81,
     "metadata": {},
     "output_type": "execute_result"
    },
    {
     "data": {
      "image/png": "[encoded data removed]",
      "text/plain": [
       "<Figure size 432x288 with 1 Axes>"
      ]
     },
     "metadata": {
      "needs_background": "light"
     },
     "output_type": "display_data"
    }
   ],
   "source": [
    "plt.imshow(top['TOP1_video'].sel(frame=0),cmap='gray')\n",
    "# plt.plot(eliney[:,:dt],elinex[:,:dt],'.-')"
   ]
  },
  {
   "cell_type": "code",
   "execution_count": 109,
   "metadata": {},
   "outputs": [
    {
     "data": {
      "text/plain": [
       "'C:\\\\Users\\\\Niell Lab\\\\Documents\\\\GitHub\\\\FreelyMovingEphys\\\\project_analysis\\\\misc'"
      ]
     },
     "execution_count": 109,
     "metadata": {},
     "output_type": "execute_result"
    }
   ],
   "source": [
    "%pwd"
   ]
  },
  {
   "cell_type": "code",
   "execution_count": 110,
   "metadata": {},
   "outputs": [
    {
     "data": {
      "text/plain": [
       "'C:\\\\Users\\\\Niell Lab\\\\Documents\\\\GitHub\\\\FreelyMovingEphys\\\\'"
      ]
     },
     "execution_count": 110,
     "metadata": {},
     "output_type": "execute_result"
    }
   ],
   "source": [
    "os.path.join('C:\\\\Users\\\\Niell Lab\\\\Documents\\\\GitHub\\\\FreelyMovingEphys\\\\')"
   ]
  },
  {
   "cell_type": "code",
   "execution_count": 115,
   "metadata": {},
   "outputs": [],
   "source": [
    "import sys\n",
    "import pandas as pd\n",
    "import xarray as xr\n",
    "import pandas as pd\n",
    "import numpy as np\n",
    "from scipy.signal import medfilt\n",
    "\n",
    "from util.time import open_time1\n",
    "sys.path.insert(0, os.path.join('C:\\\\Users\\\\Niell Lab\\\\Documents\\\\GitHub\\\\FreelyMovingEphys\\\\'))\n",
    "\n",
    "from util.config import set_preprocessing_config_defaults, str_to_bool, open_config\n",
    "config_path = os.path.normpath(r'T:\\\\freely_moving_ephys\\ephys_recordings\\031021\\EE11P13LTRN\\config.yaml')\n",
    "config = open_config(config_path)"
   ]
  },
  {
   "cell_type": "code",
   "execution_count": 116,
   "metadata": {},
   "outputs": [],
   "source": [
    "# def read_8ch_imu(imupath, timepath, config):\n",
    "imupath = os.path.normpath(r'T:\\\\freely_moving_ephys\\ephys_recordings\\031021\\EE11P13LTRN\\fm1\\031021_EE11P13LTRN_control_Rig2_fm1_IMU.bin')\n",
    "timepath =  os.path.normpath(r'T:\\\\freely_moving_ephys\\ephys_recordings\\031021\\EE11P13LTRN\\fm1\\031021_EE11P13LTRN_control_Rig2_fm1_Ephys_BonsaiBoardTS.csv')\n",
    "\"\"\"\n",
    "read an 8-channel binary file of variable length\n",
    "INPUTS:\n",
    "    imupath -- imu binary file\n",
    "    timepath -- timestamp csv file to imu data\n",
    "    config -- options dict\n",
    "OUTPUTS:\n",
    "    imu_out -- xarray of IMU data\n",
    "only channels 0-3, 4-7 will be saved out, channels, 3 and 7 are thrown out\n",
    "expected binary channel order: acc first, empty channel, then gyro, then empty channel\n",
    "returns a dataarray of constructed timestamps and imu readings from -5V to 5V\n",
    "dataarray values are downsampled by value in input dictionary config\n",
    "\"\"\"\n",
    "# set up datatypes and names for each channel\n",
    "dtypes = np.dtype([\n",
    "    (\"acc_x\",np.uint16),\n",
    "    (\"acc_y\",np.uint16),\n",
    "    (\"acc_z\",np.uint16),\n",
    "    (\"none1\",np.uint16),\n",
    "    (\"gyro_x\",np.uint16),\n",
    "    (\"gyro_y\",np.uint16),\n",
    "    (\"gyro_z\",np.uint16),\n",
    "    (\"none2\",np.uint16)\n",
    "])\n",
    "# read in binary file\n",
    "binary_in = pd.DataFrame(np.fromfile(imupath, dtypes, -1, ''))\n",
    "binary_in = binary_in.drop(columns=['none1','none2'])\n",
    "# convert to -5V to 5V\n",
    "data = 10 * (binary_in.astype(float)/(2**16) - 0.5)\n",
    "# downsample\n",
    "data = data.iloc[0:-1:config['imu_downsample'],:]\n",
    "samp_freq = config['imu_sample_rate'] / config['imu_downsample']\n",
    "# read in timestamps\n",
    "time = pd.DataFrame(open_time1(pd.read_csv(timepath).iloc[:,0]))\n",
    "# get first/last timepoint, num_samples\n",
    "t0 = time.iloc[0,0]; num_samp = np.size(data,0)\n",
    "# samples start at t0, and are acquired at rate of 'ephys_sample_rate'/ 'imu_downsample'\n",
    "newtime = pd.DataFrame(np.array(t0 + np.linspace(0, num_samp-1, num_samp) / samp_freq))\n",
    "# collect the data together to return"
   ]
  },
  {
   "cell_type": "code",
   "execution_count": 130,
   "metadata": {},
   "outputs": [],
   "source": [
    "# all_data = data.copy()\n",
    "# all_data.columns = ['acc_x', 'acc_y', 'acc_z', 'gyro_x', 'gyro_y', 'gyro_z']\n",
    "# acc = all_data[['acc_x', 'acc_y', 'acc_z']].to_numpy()\n",
    "# gyro = all_data[['gyro_x', 'gyro_y', 'gyro_z']].to_numpy()\n",
    "# orientation = IMU_roll_pitch(acc,gyro)\n",
    "all_data['roll'] = orientation[:,0].astype(np.float16) # Roll\n",
    "all_data['pitch'] = orientation[:,1].astype(np.float16) # Pitch\n",
    "imu_out = xr.DataArray(all_data, dims={'channel','sample'})\n",
    "try:\n",
    "    imu_out = imu_out.assign_coords(timestamps=('sample',list(newtime.iloc[:,0])))\n",
    "except ValueError:\n",
    "    imu_out = imu_out.assign_coords(timestamps=('channel',list(newtime.iloc[:,0])))       \n",
    "\n",
    "#     return imu_out"
   ]
  },
  {
   "cell_type": "code",
   "execution_count": 122,
   "metadata": {},
   "outputs": [],
   "source": [
    "imu_out = xr.DataArray(all_data, dims={'channel','sample'})\n"
   ]
  },
  {
   "cell_type": "code",
   "execution_count": 131,
   "metadata": {},
   "outputs": [
    {
     "data": {
      "text/plain": [
       "0           36.34375\n",
       "100         36.62500\n",
       "200         36.75000\n",
       "300         36.75000\n",
       "400         36.75000\n",
       "              ...   \n",
       "54431300    35.56250\n",
       "54431400    35.56250\n",
       "54431500    35.53125\n",
       "54431600    35.53125\n",
       "54431700    35.53125\n",
       "Name: roll, Length: 544318, dtype: float16"
      ]
     },
     "execution_count": 131,
     "metadata": {},
     "output_type": "execute_result"
    }
   ],
   "source": [
    "all_data['roll']"
   ]
  },
  {
   "cell_type": "code",
   "execution_count": null,
   "metadata": {},
   "outputs": [],
   "source": []
  }
 ],
 "metadata": {
  "kernelspec": {
   "display_name": "Python [conda env:.conda-DLC-GPU2]",
   "language": "python",
   "name": "conda-env-.conda-DLC-GPU2-py"
  },
  "language_info": {
   "codemirror_mode": {
    "name": "ipython",
    "version": 3
   },
   "file_extension": ".py",
   "mimetype": "text/x-python",
   "name": "python",
   "nbconvert_exporter": "python",
   "pygments_lexer": "ipython3",
   "version": "3.7.9"
  }
 },
 "nbformat": 4,
 "nbformat_minor": 4
}
