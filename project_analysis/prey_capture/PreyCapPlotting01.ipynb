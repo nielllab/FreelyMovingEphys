{
 "cells": [
  {
   "cell_type": "code",
   "execution_count": 1,
   "metadata": {},
   "outputs": [],
   "source": [
    "import os\n",
    "import argparse\n",
    "import glob\n",
    "import sys \n",
    "import yaml \n",
    "import glob\n",
    "\n",
    "import numpy as np\n",
    "import xarray as xr\n",
    "import pandas as pd\n",
    "import matplotlib.pyplot as plt \n",
    "from matplotlib.backends.backend_pdf import PdfPages\n",
    "\n",
    "from scipy import interpolate \n",
    "from scipy import signal\n",
    "\n",
    "from pathlib import Path\n",
    "sys.path.append(str(Path('.').absolute().parent.parent))\n",
    "from util.paths import find, list_subdirs\n",
    "\n",
    "import matplotlib as mpl\n",
    "mpl.rcParams.update({'font.size':         24,\n",
    "                     'axes.linewidth':    3,\n",
    "                     'xtick.major.size':  5,\n",
    "                     'xtick.major.width': 2,\n",
    "                     'ytick.major.size':  5,\n",
    "                     'ytick.major.width': 2,\n",
    "                     'axes.spines.right': False,\n",
    "                     'axes.spines.top':   False,\n",
    "                     'font.sans-serif':  \"Arial\",\n",
    "                     'font.family':      \"sans-serif\",\n",
    "                    })\n",
    "pd.set_option('display.max_rows', None)\n"
   ]
  },
  {
   "cell_type": "code",
   "execution_count": 2,
   "metadata": {},
   "outputs": [],
   "source": [
    "trial=1\n",
    "# base_path = Path('~/NewMonster/T/OptoPreyCapture').expanduser()\n",
    "base_path = Path('T:/BinocOptoPreyCapture').expanduser()\n",
    "fpath = str(list((base_path / '081621/PVCha2black/{:d}/'.format(trial)).glob('*_BasicParams.h5'))[0])\n"
   ]
  },
  {
   "cell_type": "code",
   "execution_count": 3,
   "metadata": {},
   "outputs": [],
   "source": [
    "with pd.HDFStore(fpath) as store:\n",
    "    data = store['df']\n",
    "    metadata = store.get_storer('df').attrs.metadata"
   ]
  },
  {
   "cell_type": "code",
   "execution_count": 4,
   "metadata": {},
   "outputs": [
    {
     "data": {
      "text/plain": [
       "{'MovieT': 24.833333333333332,\n",
       " 'CaptureT': 19.316666666666666,\n",
       " 'TimeToApproach': 4.519014999998035,\n",
       " 'FreqApproach': 0.24161073825503357,\n",
       " 'ProbInter': 0.3333333333333333,\n",
       " 'ProbCapture': 0.5}"
      ]
     },
     "execution_count": 4,
     "metadata": {},
     "output_type": "execute_result"
    }
   ],
   "source": [
    "metadata"
   ]
  },
  {
   "cell_type": "code",
   "execution_count": 86,
   "metadata": {},
   "outputs": [],
   "source": [
    "with PdfPages(fpath[:-3] + '_Plots.pdf') as pdf:\n",
    "    fig, ax = plt.subplots(figsize=(10,5))\n",
    "    ax.plot(data['t'],data['Angle'], c='b')\n",
    "    ax.plot(data['t'],data['Speed'], c='k')\n",
    "    ax.plot(data['t'],data['Dist'], c='m')\n",
    "    ax.axvline(x=metadata['TimeToApproach'], c='g')\n",
    "    ax.axvline(x=metadata['CaptureT'], c='r')\n",
    "    ax.set_title('Basic Params')\n",
    "    ax.legend(['Angle', 'Speed', 'Dist. to Cricket', 'TimeToApproach', 'CaptureT'], bbox_to_anchor=(1.01, 1), fontsize=10)\n",
    "    plt.tight_layout()\n",
    "    pdf.savefig()  # saves the current figure into a pdf page\n",
    "    plt.close()\n",
    "\n",
    "    fig, ax = plt.subplots(figsize=(10,8))\n",
    "    plot_min, plot_max = np.nanmin(data[['Mouse_x','Mouse_y','Cricket_x','Cricket_y']].to_numpy()), np.nanmax(data[['Mouse_x','Mouse_y','Cricket_x','Cricket_y']].to_numpy())\n",
    "    ax.plot(data['Mouse_y'], data['Mouse_x'],c='k')\n",
    "    ax.plot(data['Cricket_y'], data['Cricket_x'],c='r')\n",
    "    ax.set_xlim([plot_min-1,plot_max+1])\n",
    "    ax.set_ylim([plot_min-1,plot_max+1])\n",
    "    ax.set_title('DLC Tracking')\n",
    "    ax.legend(['Mouse', 'Cricket'],bbox_to_anchor=(1.01, 1), fontsize=10)\n",
    "    ax.set_aspect('equal', 'box')\n",
    "    plt.tight_layout()\n",
    "    pdf.savefig()  # saves the current figure into a pdf page\n",
    "    plt.close()"
   ]
  },
  {
   "cell_type": "code",
   "execution_count": 22,
   "metadata": {},
   "outputs": [],
   "source": [
    "# csv_filepath = os.path.normpath('T:/OptoPreyCapture/csv_today.csv')\n",
    "csv_filepath = base_path / 'csv_today.csv'\n",
    "csv = pd.read_csv(csv_filepath)\n",
    "csv['experiment_date'] = pd.to_datetime(csv['experiment_date'],infer_datetime_format=True,format='%m%d%Y').dt.strftime('%m%d%y')\n",
    "csv = csv.loc[(csv['run_preprocessing'] == True)|(csv['run_ephys_analysis'] == True)]\n",
    "csv = csv[csv['experiment_outcome']=='good'].reset_index(drop=True)\n",
    "# Format Pandas Dataframe to have Trial number and Stimulus condition\n",
    "\n",
    "cols = list(csv.keys()[:-4])\n",
    "cols.append('Trial')\n",
    "cols.append('LaserOn')\n",
    "csv2 = pd.DataFrame(columns=cols)\n",
    "for ind,row in csv.iterrows():\n",
    "    for n in range(1,5):\n",
    "        if '*' in row['{:d}'.format(n)]:\n",
    "            csv2 = csv2.append(row[:-4].append(pd.Series([n,True],index=['Trial','LaserOn'])),ignore_index=True)\n",
    "        else:\n",
    "            csv2 = csv2.append(row[:-4].append(pd.Series([n,False],index=['Trial','LaserOn'])),ignore_index=True)\n",
    "inds, labels = csv2['Environment'].factorize()"
   ]
  },
  {
   "cell_type": "code",
   "execution_count": 9,
   "metadata": {},
   "outputs": [],
   "source": [
    "cs2 = csv2[csv2['animal_name']!='PVCH13p3RT']"
   ]
  },
  {
   "cell_type": "code",
   "execution_count": 23,
   "metadata": {},
   "outputs": [],
   "source": [
    "df_meta = pd.DataFrame(columns=list(metadata.keys()))\n",
    "for ind, row in csv2.iterrows():\n",
    "    if list((base_path /row['experiment_date'] / row['animal_name'] /'{:d}'.format(row['Trial'])).glob('*_BasicParams.h5')) != []:\n",
    "        fname = str(list((base_path /row['experiment_date'] / row['animal_name'] /'{:d}'.format(row['Trial'])).glob('*_BasicParams.h5'))[0])\n",
    "        with pd.HDFStore(fname) as store:\n",
    "            data = store['df']\n",
    "            metadata = store.get_storer('df').attrs.metadata\n",
    "            metadata.update(csv2[['animal_name','experiment_date','Trial','LaserOn','Environment']].iloc[ind])\n",
    "            df_meta = df_meta.append(metadata, ignore_index=True)"
   ]
  },
  {
   "cell_type": "code",
   "execution_count": 24,
   "metadata": {},
   "outputs": [
    {
     "data": {
      "text/html": [
       "<div>\n",
       "<style scoped>\n",
       "    .dataframe tbody tr th:only-of-type {\n",
       "        vertical-align: middle;\n",
       "    }\n",
       "\n",
       "    .dataframe tbody tr th {\n",
       "        vertical-align: top;\n",
       "    }\n",
       "\n",
       "    .dataframe thead th {\n",
       "        text-align: right;\n",
       "    }\n",
       "</style>\n",
       "<table border=\"1\" class=\"dataframe\">\n",
       "  <thead>\n",
       "    <tr style=\"text-align: right;\">\n",
       "      <th></th>\n",
       "      <th></th>\n",
       "      <th>MovieT</th>\n",
       "      <th>CaptureT</th>\n",
       "      <th>TimeToApproach</th>\n",
       "      <th>FreqApproach</th>\n",
       "      <th>ProbInter</th>\n",
       "      <th>ProbCapture</th>\n",
       "    </tr>\n",
       "    <tr>\n",
       "      <th>LaserOn</th>\n",
       "      <th>Environment</th>\n",
       "      <th></th>\n",
       "      <th></th>\n",
       "      <th></th>\n",
       "      <th></th>\n",
       "      <th></th>\n",
       "      <th></th>\n",
       "    </tr>\n",
       "  </thead>\n",
       "  <tbody>\n",
       "    <tr>\n",
       "      <th>False</th>\n",
       "      <th>Lno</th>\n",
       "      <td>43.870588</td>\n",
       "      <td>41.520588</td>\n",
       "      <td>9.505834</td>\n",
       "      <td>0.212045</td>\n",
       "      <td>0.644102</td>\n",
       "      <td>0.386230</td>\n",
       "    </tr>\n",
       "    <tr>\n",
       "      <th>True</th>\n",
       "      <th>Lno</th>\n",
       "      <td>45.915079</td>\n",
       "      <td>43.446032</td>\n",
       "      <td>9.535779</td>\n",
       "      <td>0.170785</td>\n",
       "      <td>0.477201</td>\n",
       "      <td>0.467914</td>\n",
       "    </tr>\n",
       "  </tbody>\n",
       "</table>\n",
       "</div>"
      ],
      "text/plain": [
       "                        MovieT   CaptureT  TimeToApproach  FreqApproach  \\\n",
       "LaserOn Environment                                                       \n",
       "False   Lno          43.870588  41.520588        9.505834      0.212045   \n",
       "True    Lno          45.915079  43.446032        9.535779      0.170785   \n",
       "\n",
       "                     ProbInter  ProbCapture  \n",
       "LaserOn Environment                          \n",
       "False   Lno           0.644102     0.386230  \n",
       "True    Lno           0.477201     0.467914  "
      ]
     },
     "execution_count": 24,
     "metadata": {},
     "output_type": "execute_result"
    }
   ],
   "source": [
    "df_meta.groupby(['LaserOn','Environment']).mean()"
   ]
  },
  {
   "cell_type": "code",
   "execution_count": 15,
   "metadata": {},
   "outputs": [],
   "source": [
    "import seaborn as sns\n"
   ]
  },
  {
   "cell_type": "code",
   "execution_count": 17,
   "metadata": {},
   "outputs": [
    {
     "data": {
      "image/png": "[encoded data removed]",
      "text/plain": [
       "<Figure size 577.15x432 with 1 Axes>"
      ]
     },
     "metadata": {
      "needs_background": "light"
     },
     "output_type": "display_data"
    }
   ],
   "source": [
    "# plt.figure(figsize=(20,20))\n",
    "g = sns.catplot(\n",
    "    data=df_meta, kind=\"bar\",\n",
    "    x=\"Environment\", y=\"CaptureT\", hue=\"LaserOn\",\n",
    "    ci='sd', palette=\"dark\", alpha=.6, height=6\n",
    ")\n",
    "g.despine(left=True)\n",
    "g.set_axis_labels(\"\", \"Time (s)\")\n",
    "g.legend.set_title(\"\")\n",
    "g.set_xticklabels(rotation=90)\n",
    "plt.show()"
   ]
  },
  {
   "cell_type": "code",
   "execution_count": 18,
   "metadata": {},
   "outputs": [
    {
     "data": {
      "text/plain": [
       "dict_keys(['MovieT', 'CaptureT', 'TimeToApproach', 'FreqApproach', 'ProbInter', 'ProbCapture', 'animal_name', 'experiment_date', 'Trial', 'LaserOn', 'Environment'])"
      ]
     },
     "execution_count": 18,
     "metadata": {},
     "output_type": "execute_result"
    }
   ],
   "source": [
    "metadata.keys()"
   ]
  },
  {
   "cell_type": "code",
   "execution_count": null,
   "metadata": {},
   "outputs": [],
   "source": []
  },
  {
   "cell_type": "code",
   "execution_count": null,
   "metadata": {},
   "outputs": [],
   "source": []
  }
 ],
 "metadata": {
  "kernelspec": {
   "display_name": "Python [conda env:DEEPLABCUT]",
   "language": "python",
   "name": "conda-env-DEEPLABCUT-py"
  },
  "language_info": {
   "codemirror_mode": {
    "name": "ipython",
    "version": 3
   },
   "file_extension": ".py",
   "mimetype": "text/x-python",
   "name": "python",
   "nbconvert_exporter": "python",
   "pygments_lexer": "ipython3",
   "version": "3.8.10"
  }
 },
 "nbformat": 4,
 "nbformat_minor": 4
}
