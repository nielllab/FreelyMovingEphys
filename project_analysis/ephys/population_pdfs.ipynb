{
 "cells": [
  {
   "cell_type": "markdown",
   "metadata": {},
   "source": [
    "# population analysis on ephys units across sessions"
   ]
  },
  {
   "cell_type": "code",
   "execution_count": 1,
   "metadata": {},
   "outputs": [],
   "source": [
    "import numpy as np\n",
    "import pandas as pd\n",
    "import xarray as xr\n",
    "import warnings\n",
    "warnings.filterwarnings('ignore')"
   ]
  },
  {
   "cell_type": "code",
   "execution_count": 2,
   "metadata": {},
   "outputs": [],
   "source": [
    "import sys\n",
    "sys.path.insert(0, '/Users/Niell Lab/Documents/GitHub/FreelyMovingEphys/')"
   ]
  },
  {
   "cell_type": "code",
   "execution_count": 3,
   "metadata": {},
   "outputs": [],
   "source": [
    "from util.paths import find\n",
    "from project_analysis.ephys.ephys_utils import load_ephys\n",
    "from project_analysis.ephys.population_utils import make_unit_summary, make_session_summary"
   ]
  },
  {
   "cell_type": "markdown",
   "metadata": {},
   "source": [
    "## if the data are spread across directories for individual recordings, and need to be pooled"
   ]
  },
  {
   "cell_type": "code",
   "execution_count": 7,
   "metadata": {},
   "outputs": [],
   "source": [
    "# pool data listed in csv file\n",
    "df = load_ephys(r'T:/freely_moving_ephys/batch_files/061821/completed_experiment_pool.csv')"
   ]
  },
  {
   "cell_type": "code",
   "execution_count": null,
   "metadata": {},
   "outputs": [],
   "source": [
    "# df"
   ]
  },
  {
   "cell_type": "code",
   "execution_count": null,
   "metadata": {},
   "outputs": [],
   "source": [
    "# save as one h5 file\n",
    "# df.to_hdf(r'T:\\freely_moving_ephys\\population_summaries\\050321/exp_pool_all_data_050321.h5', 'w')"
   ]
  },
  {
   "cell_type": "code",
   "execution_count": null,
   "metadata": {},
   "outputs": [],
   "source": [
    "# make a pdf summary\n",
    "# make_unit_summary(df, r'T:\\freely_moving_ephys\\population_summaries\\050321')"
   ]
  },
  {
   "cell_type": "markdown",
   "metadata": {},
   "source": [
    "## if there is already an h5 file of pooled data"
   ]
  },
  {
   "cell_type": "code",
   "execution_count": null,
   "metadata": {},
   "outputs": [],
   "source": [
    "# load existing .h5 file\n",
    "df = pd.read_hdf(r'T:\\freely_moving_ephys\\batch_files\\061821\\pooled_ephys_062121.h5')"
   ]
  },
  {
   "cell_type": "code",
   "execution_count": null,
   "metadata": {},
   "outputs": [],
   "source": [
    "df"
   ]
  },
  {
   "cell_type": "code",
   "execution_count": 8,
   "metadata": {},
   "outputs": [],
   "source": [
    "# clean up h5 file\n",
    "cols = df.columns.values\n",
    "shcols = [c for c in cols if 'gratingssh' in c]\n",
    "for c in shcols:\n",
    "    new_col = str(c.replace('gratingssh', 'gratings'))\n",
    "    df = df.rename(columns={str(c): new_col})\n",
    "badcols = []\n",
    "for c in cols:\n",
    "    if any(s in c for s in ['fm2','hf5','hf6','hf7','hf8']):\n",
    "        badcols.append(c)\n",
    "df = df.drop(labels=badcols, axis=1)"
   ]
  },
  {
   "cell_type": "code",
   "execution_count": null,
   "metadata": {
    "scrolled": true
   },
   "outputs": [],
   "source": [
    "make_unit_summary(df, r'T:\\freely_moving_ephys\\batch_files\\061821b')"
   ]
  },
  {
   "cell_type": "code",
   "execution_count": 9,
   "metadata": {},
   "outputs": [
    {
     "name": "stderr",
     "output_type": "stream",
     "text": [
      "100%|██████████████████████████████████████████████████████████████████████████████████| 11/11 [07:29<00:00, 40.91s/it]"
     ]
    },
    {
     "name": "stdout",
     "output_type": "stream",
     "text": [
      "saving session summary pdf\n"
     ]
    },
    {
     "name": "stderr",
     "output_type": "stream",
     "text": [
      "\n"
     ]
    }
   ],
   "source": [
    "make_session_summary(df, r'T:\\freely_moving_ephys\\batch_files\\061821b')"
   ]
  }
 ],
 "metadata": {
  "kernelspec": {
   "display_name": "DLC-GPU2",
   "language": "python",
   "name": "dlc-gpu2"
  },
  "language_info": {
   "codemirror_mode": {
    "name": "ipython",
    "version": 3
   },
   "file_extension": ".py",
   "mimetype": "text/x-python",
   "name": "python",
   "nbconvert_exporter": "python",
   "pygments_lexer": "ipython3",
   "version": "3.7.9"
  }
 },
 "nbformat": 4,
 "nbformat_minor": 4
}
