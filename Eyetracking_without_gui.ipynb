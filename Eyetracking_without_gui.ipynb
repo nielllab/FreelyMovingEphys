{
 "cells": [
  {
   "cell_type": "code",
   "execution_count": 1,
   "metadata": {},
   "outputs": [
    {
     "name": "stdout",
     "output_type": "stream",
     "text": [
      "Loading DLC 2.3.5...\n"
     ]
    }
   ],
   "source": [
    "import deeplabcut \n",
    "import glob, os\n",
    "from tqdm import trange, tqdm\n",
    "from tkinter import filedialog\n",
    "import tkinter as tk"
   ]
  },
  {
   "cell_type": "code",
   "execution_count": 2,
   "metadata": {},
   "outputs": [],
   "source": [
    "videolist = ['T:/freely_moving_ephys/SC_analysis/041923/J630LT/fm1/041923_J630LT_control_Rig2_fm1_REYEdeinter.avi']\n",
    "# Note: In Windows, the file paths must be formated as r'C:\\Full\\path\\of\\video.MP4'"
   ]
  },
  {
   "cell_type": "code",
   "execution_count": 3,
   "metadata": {},
   "outputs": [
    {
     "name": "stdout",
     "output_type": "stream",
     "text": [
      "Created \"T:\\freely_moving_ephys\\SC_analysis\\SC_eyetracking_041923_J630LT-SS-2023-09-02\\videos\"\n",
      "Created \"T:\\freely_moving_ephys\\SC_analysis\\SC_eyetracking_041923_J630LT-SS-2023-09-02\\labeled-data\"\n",
      "Created \"T:\\freely_moving_ephys\\SC_analysis\\SC_eyetracking_041923_J630LT-SS-2023-09-02\\training-datasets\"\n",
      "Created \"T:\\freely_moving_ephys\\SC_analysis\\SC_eyetracking_041923_J630LT-SS-2023-09-02\\dlc-models\"\n",
      "Copying the videos\n",
      "T:\\freely_moving_ephys\\SC_analysis\\SC_eyetracking_041923_J630LT-SS-2023-09-02\\videos\\041923_J630LT_control_Rig2_fm1_REYEdeinter.avi\n",
      "Generated \"T:\\freely_moving_ephys\\SC_analysis\\SC_eyetracking_041923_J630LT-SS-2023-09-02\\config.yaml\"\n",
      "\n",
      "A new project with name SC_eyetracking_041923_J630LT-SS-2023-09-02 is created at T:\\freely_moving_ephys\\SC_analysis and a configurable file (config.yaml) is stored there. Change the parameters in this file to adapt to your project's needs.\n",
      " Once you have changed the configuration file, use the function 'extract_frames' to select frames for labeling.\n",
      ". [OPTIONAL] Use the function 'add_new_videos' to add new videos to your project (at any stage).\n"
     ]
    }
   ],
   "source": [
    "config_path = deeplabcut.create_new_project('SC_eyetracking_041923_J630LT', 'SS', videolist, working_directory='T:/freely_moving_ephys/SC_analysis', copy_videos=True, multianimal=False)\n"
   ]
  },
  {
   "cell_type": "code",
   "execution_count": 4,
   "metadata": {},
   "outputs": [
    {
     "name": "stdout",
     "output_type": "stream",
     "text": [
      "Config file read successfully.\n",
      "Extracting frames based on kmeans ...\n",
      "Kmeans-quantization based extracting of frames from 0.0  seconds to 3004.3  seconds.\n",
      "Extracting and downsampling... 180258  frames from the video.\n"
     ]
    },
    {
     "name": "stderr",
     "output_type": "stream",
     "text": [
      "180258it [06:28, 464.00it/s]\n"
     ]
    },
    {
     "name": "stdout",
     "output_type": "stream",
     "text": [
      "Kmeans clustering ... (this might take a while)\n"
     ]
    },
    {
     "name": "stderr",
     "output_type": "stream",
     "text": [
      "c:\\Users\\Niell Lab\\.conda\\envs\\DEEPLABCUT\\lib\\site-packages\\sklearn\\cluster\\_kmeans.py:1930: FutureWarning: The default value of `n_init` will change from 3 to 'auto' in 1.4. Set the value of `n_init` explicitly to suppress the warning\n",
      "  super()._check_params_vs_input(X, default_n_init=3)\n"
     ]
    },
    {
     "name": "stdout",
     "output_type": "stream",
     "text": [
      "Frames were successfully extracted, for the videos listed in the config.yaml file.\n",
      "\n",
      "You can now label the frames using the function 'label_frames' (Note, you should label frames extracted from diverse videos (and many videos; we do not recommend training on single videos!)).\n"
     ]
    }
   ],
   "source": [
    "deeplabcut.extract_frames(config_path, mode='automatic', algo='kmeans', userfeedback=False, crop=False)\n"
   ]
  },
  {
   "cell_type": "code",
   "execution_count": 7,
   "metadata": {},
   "outputs": [
    {
     "ename": "SyntaxError",
     "evalue": "invalid syntax (468788864.py, line 2)",
     "output_type": "error",
     "traceback": [
      "\u001b[1;36m  Cell \u001b[1;32mIn[7], line 2\u001b[1;36m\u001b[0m\n\u001b[1;33m    python -m deeplabcut\u001b[0m\n\u001b[1;37m              ^\u001b[0m\n\u001b[1;31mSyntaxError\u001b[0m\u001b[1;31m:\u001b[0m invalid syntax\n"
     ]
    }
   ],
   "source": [
    "#open gui to label frames, type this into terminal\n",
    "python -m deeplabcut"
   ]
  }
 ],
 "metadata": {
  "kernelspec": {
   "display_name": "ephys2",
   "language": "python",
   "name": "python3"
  },
  "language_info": {
   "codemirror_mode": {
    "name": "ipython",
    "version": 3
   },
   "file_extension": ".py",
   "mimetype": "text/x-python",
   "name": "python",
   "nbconvert_exporter": "python",
   "pygments_lexer": "ipython3",
   "version": "3.8.17"
  },
  "orig_nbformat": 4
 },
 "nbformat": 4,
 "nbformat_minor": 2
}
