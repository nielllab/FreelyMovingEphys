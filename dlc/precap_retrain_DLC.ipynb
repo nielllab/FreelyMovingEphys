{
 "cells": [
  {
   "cell_type": "code",
   "execution_count": 1,
   "id": "a39b7d81",
   "metadata": {},
   "outputs": [],
   "source": [
    "import deeplabcut \n",
    "import os\n",
    "from glob import glob\n",
    "from tqdm import trange, tqdm\n",
    "from tkinter import filedialog\n",
    "import tkinter as tk"
   ]
  },
  {
   "cell_type": "markdown",
   "id": "5fe997ce",
   "metadata": {},
   "source": [
    "## DLC config path for the project to retrain"
   ]
  },
  {
   "cell_type": "code",
   "execution_count": 2,
   "id": "3410f76d",
   "metadata": {},
   "outputs": [],
   "source": [
    "config_path = r'T:\\deeplabcut_projects\\BinocularOpto-Elliott-2021-08-12-new\\config.yaml'"
   ]
  },
  {
   "cell_type": "markdown",
   "id": "250f5107",
   "metadata": {},
   "source": [
    "## Add new videos and label frames, if they are not yet labeled\n",
    "## Skip this section if the videos are already labeled"
   ]
  },
  {
   "cell_type": "code",
   "execution_count": null,
   "id": "5d82941e",
   "metadata": {},
   "outputs": [],
   "source": [
    "# directory_of_new_unlabeled_vids = ''"
   ]
  },
  {
   "cell_type": "code",
   "execution_count": null,
   "id": "9b8b4b40",
   "metadata": {},
   "outputs": [],
   "source": [
    "# new_vids = glob(directory_of_new_unlabeled_vids)\n",
    "# deeplabcut.add_new_videos(config_path,new_vids,copy_videos=True)\n",
    "# deeplabcut.extract_frames(config_path, mode='automatic', algo='uniform', userfeedback=False, crop=False)"
   ]
  },
  {
   "cell_type": "code",
   "execution_count": null,
   "id": "00c0a9cb",
   "metadata": {},
   "outputs": [],
   "source": [
    "# deeplabcut.label_frames(config_path)"
   ]
  },
  {
   "cell_type": "markdown",
   "id": "296d5cf5",
   "metadata": {},
   "source": [
    "## Merge the new labaled videos into the project\n",
    "## Then, create a new training dataset"
   ]
  },
  {
   "cell_type": "code",
   "execution_count": 3,
   "id": "27e7a967",
   "metadata": {},
   "outputs": [
    {
     "name": "stdout",
     "output_type": "stream",
     "text": [
      "The following folder was not manually refined,... T:\\deeplabcut_projects\\BinocularOpto-Elliott-2021-08-12-new\\labeled-data\\092221_PV154black_n_Wsw_2_TOP1\n",
      "The following folder was not manually refined,... T:\\deeplabcut_projects\\BinocularOpto-Elliott-2021-08-12-new\\labeled-data\\092221_PV154black_n_Wsw_2_TOP2\n",
      "The following folder was not manually refined,... T:\\deeplabcut_projects\\BinocularOpto-Elliott-2021-08-12-new\\labeled-data\\092221_PV154pink_y_Wsw_2_TOP1\n",
      "The following folder was not manually refined,... T:\\deeplabcut_projects\\BinocularOpto-Elliott-2021-08-12-new\\labeled-data\\092221_PV154pink_y_Wsw_2_TOP2\n",
      "The following folder was not manually refined,... T:\\deeplabcut_projects\\BinocularOpto-Elliott-2021-08-12-new\\labeled-data\\092221_PVCha5Agreen_y_Wsw_3_TOP2\n",
      "The following folder was not manually refined,... T:\\deeplabcut_projects\\BinocularOpto-Elliott-2021-08-12-new\\labeled-data\\100121_PVCha3white_y_Wno_5_TOP1\n",
      "Please label, or remove the un-corrected folders.\n"
     ]
    }
   ],
   "source": [
    "deeplabcut.merge_datasets(config_path)"
   ]
  },
  {
   "cell_type": "code",
   "execution_count": 4,
   "id": "cf8f15e4",
   "metadata": {},
   "outputs": [
    {
     "name": "stdout",
     "output_type": "stream",
     "text": [
      "T:\\deeplabcut_projects\\BinocularOpto-Elliott-2021-08-12-new\\training-datasets\\iteration-1\\UnaugmentedDataSet_BinocularOptoAug12  already exists!\n",
      "T:\\deeplabcut_projects\\BinocularOpto-Elliott-2021-08-12-new\\labeled-data\\092221_PV154pink_y_Wsw_2_TOP1\\CollectedData_Elliott.h5  not found (perhaps not annotated).\n",
      "T:\\deeplabcut_projects\\BinocularOpto-Elliott-2021-08-12-new\\labeled-data\\092221_PV154pink_y_Wsw_2_TOP2\\CollectedData_Elliott.h5  not found (perhaps not annotated).\n",
      "T:\\deeplabcut_projects\\BinocularOpto-Elliott-2021-08-12-new\\labeled-data\\092221_PV154black_n_Wsw_2_TOP1\\CollectedData_Elliott.h5  not found (perhaps not annotated).\n",
      "T:\\deeplabcut_projects\\BinocularOpto-Elliott-2021-08-12-new\\labeled-data\\092221_PV154black_n_Wsw_2_TOP2\\CollectedData_Elliott.h5  not found (perhaps not annotated).\n",
      "T:\\deeplabcut_projects\\BinocularOpto-Elliott-2021-08-12-new\\labeled-data\\092221_PVCha5Agreen_y_Wsw_3_TOP2\\CollectedData_Elliott.h5  not found (perhaps not annotated).\n",
      "The training dataset is successfully created. Use the function 'train_network' to start training. Happy training!\n"
     ]
    },
    {
     "data": {
      "text/plain": [
       "[(0.95,\n",
       "  1,\n",
       "  (array([681, 429, 527,  38, 436, 335, 366, 320, 102, 477,  95, 544, 314,\n",
       "          330, 674, 443, 499,   7,  96,  66, 602, 362, 658,  49, 233, 498,\n",
       "          302, 390, 446, 194, 133, 246, 698, 626, 305, 169, 315, 495, 711,\n",
       "          141,  52, 507, 470, 704, 588, 209, 339,  69,  21,  14, 115, 523,\n",
       "          204, 143, 550, 644, 411,  89, 645, 324, 177, 709, 176, 163, 139,\n",
       "          422, 218,  68, 158, 650, 683, 225, 433, 471, 373, 247, 534,  74,\n",
       "          414, 359, 583, 224, 138, 134, 123, 548,  44,  36, 654, 447, 520,\n",
       "          297, 181, 316, 485, 323, 258, 212, 168, 619, 132, 622, 623, 453,\n",
       "          404,  12, 279, 322, 574,  28,  43, 539, 231, 291,  33, 461, 536,\n",
       "          377, 671, 392, 592, 331, 455, 130, 283, 606, 463, 581, 666, 487,\n",
       "          652, 277, 427, 355, 348, 113,  26, 472, 474, 191, 569, 172, 265,\n",
       "          395, 280,  51, 308, 689, 688, 234, 525, 244, 594, 665, 341, 668,\n",
       "          557,  54, 458, 551, 437, 170, 502, 467, 399, 387, 184, 564, 222,\n",
       "          438,  47, 540,  72, 675, 264, 232, 456, 632, 624, 334, 340, 703,\n",
       "          449, 211, 147, 100, 649, 290, 464, 701, 363, 299, 238,  85, 413,\n",
       "          180, 587, 530, 165, 696, 693, 657, 149, 205, 647, 516, 284, 159,\n",
       "           20, 166, 572, 336, 710, 531, 535, 332,  23, 321, 417, 469, 491,\n",
       "          634, 434, 659, 249, 155, 489, 694, 466,  27, 257, 518, 157, 352,\n",
       "           46, 229, 439, 432, 248, 452,  11, 479, 259, 124, 245, 481, 345,\n",
       "          573, 182, 565, 268, 150, 638, 230, 101, 137, 682, 381, 261, 252,\n",
       "          415, 136, 524, 146, 276, 326, 371, 608, 672,   1, 620, 262, 206,\n",
       "          221, 496, 214, 421, 153, 538, 462,  64, 521, 669, 178, 196, 175,\n",
       "          198, 129, 441, 364, 595, 386, 465, 600, 151, 412, 614, 303, 116,\n",
       "          506,  60, 398, 307, 612, 269, 486, 501, 272, 517,  29,  84, 216,\n",
       "          207, 228, 306, 532, 677, 260, 584,  57,  83, 140, 266, 454, 240,\n",
       "          593, 301, 667, 374, 500,  25, 431, 126, 691, 160, 173,   0, 376,\n",
       "          428,  65, 607, 403, 546, 121, 504, 643, 325, 648,  75, 448, 346,\n",
       "          110,  35, 391, 183, 351,  24, 468,  76, 640, 628,  71, 106, 440,\n",
       "           18, 686, 611, 119,  78, 591, 630, 190, 117, 497, 484, 329,  81,\n",
       "          510, 144, 505, 164,  56,  32, 678, 347, 256, 459, 289, 400, 580,\n",
       "          664, 287, 687, 514, 199, 690, 618, 111, 420, 679, 200, 706, 135,\n",
       "          156, 369, 627, 656,  86, 203, 292, 250,  22,  37, 397, 631, 673,\n",
       "          300, 410, 282, 267,  50, 298,  48,  93, 676, 697, 478,  70, 460,\n",
       "          378, 122, 311, 281, 680,  41, 185, 112, 662, 394, 522, 202, 561,\n",
       "          152,  17, 107, 388, 294, 692, 646,  19, 615, 509, 405, 208, 375,\n",
       "          699, 349, 210, 309, 365, 128,  58, 637, 430, 193, 542, 635, 161,\n",
       "          508, 613, 179, 599, 545, 633, 187, 409, 605, 533, 385, 273, 480,\n",
       "          327, 560, 406,  13,  92,  63, 616,   8, 596, 188, 154, 356, 541,\n",
       "          526, 255, 562,  45, 142, 425, 201, 354, 488,  62,   3, 603, 118,\n",
       "          528, 554, 598, 254, 186, 174, 167, 444, 192, 235, 482, 103, 629,\n",
       "          493, 490,  39, 242, 708, 318, 344, 227,   6, 243, 450, 367, 310,\n",
       "          304, 705, 553, 286,  82,  53, 445, 275, 576,  42,  16, 419, 223,\n",
       "          105, 263,  61, 114, 604, 695, 127,  30, 639, 435, 700, 609, 512,\n",
       "          418, 511, 343, 125, 109, 451,  34, 215, 567,  98, 382, 601, 342,\n",
       "          393,  59, 368, 236,  55, 148, 641, 407, 328, 492, 426, 558, 145,\n",
       "          357, 442, 503, 293, 270, 370, 473, 402, 571, 568, 237, 120, 685,\n",
       "          578, 295, 621, 189, 288, 617, 213, 529,  73,  91, 636, 162,  77,\n",
       "          570, 513, 274, 217, 651, 476, 389, 475, 337,  90, 219, 543, 663,\n",
       "           15, 655, 702, 372, 285, 559,  10, 494, 597, 239, 195, 333, 660,\n",
       "          350, 556, 379, 555, 563, 670, 197, 661, 575, 271, 586, 296,  40,\n",
       "          684, 317, 416, 579,  80, 319, 547, 353,  79, 424, 278, 358, 589,\n",
       "          566, 423, 380,   4, 253,  88, 625, 360, 171, 642, 577, 483,  67]),\n",
       "   array([610,  31, 401, 515, 582, 226,  99, 312, 241,   5,   9, 707, 104,\n",
       "          537, 653,  94, 220, 408, 108, 361, 396, 585, 590, 131,  97, 549,\n",
       "          457, 552, 384, 251,   2,  87, 383, 313, 519, 338])))]"
      ]
     },
     "execution_count": 4,
     "metadata": {},
     "output_type": "execute_result"
    }
   ],
   "source": [
    "deeplabcut.create_training_dataset(config_path, augmenter_type='imgaug')"
   ]
  },
  {
   "cell_type": "markdown",
   "id": "cbacad50",
   "metadata": {},
   "source": [
    "## Set up training options and rewrite config.yaml"
   ]
  },
  {
   "cell_type": "code",
   "execution_count": 5,
   "id": "6a98d34f",
   "metadata": {},
   "outputs": [],
   "source": [
    "# this should be where training ended the last time this network was trained\n",
    "existing_snapshot = r'T:\\deeplabcut_projects\\BinocularOpto-Elliott-2021-08-12-new\\dlc-models\\iteration-0\\BinocularOptoAug12-trainset95shuffle1\\train\\snapshot-275000'\n",
    "starting_iters = 275000"
   ]
  },
  {
   "cell_type": "code",
   "execution_count": 6,
   "id": "8491f7a7",
   "metadata": {},
   "outputs": [],
   "source": [
    "# batch size (I use =14 w/ 3090, =8 or =10 is good on a 2080ti)\n",
    "batchsize = 10"
   ]
  },
  {
   "cell_type": "code",
   "execution_count": 7,
   "id": "dc12d751",
   "metadata": {},
   "outputs": [],
   "source": [
    "cfg = deeplabcut.auxiliaryfunctions.read_config(config_path)\n",
    "trainposeconfigfile, testposeconfigfile, snapshotfolder = deeplabcut.return_train_network_path(config_path)\n",
    "cfg_dlc = deeplabcut.auxiliaryfunctions.read_plainconfig(trainposeconfigfile)\n",
    "cfg_dlc['scale_jitter_lo'] = 0.5\n",
    "cfg_dlc['scale_jitter_up'] = 1.5\n",
    "cfg_dlc['augmentationprobability'] = 0.5\n",
    "cfg_dlc['batch_size'] = batchsize\n",
    "cfg_dlc['elastic_transform'] = True\n",
    "cfg_dlc['rotation'] = True # make this False if it's an eyecam dataset, True is good if it's topdown\n",
    "cfg_dlc['covering'] = True\n",
    "cfg_dlc['motion_blur'] = True\n",
    "cfg_dlc['optimizer'] = \"adam\"\n",
    "cfg_dlc['dataset_type'] = 'imgaug' # 'imagaug'multi-animal-\n",
    "cfg_dlc['multi_step'] = [[1e-4, int(75000/batchsize)+starting_iters], [5.0e-5, int(120000/batchsize)+starting_iters], [1e-5, int(500000/batchsize)+starting_iters]]\n",
    "cfg_dlc['init_weights'] = existing_snapshot\n",
    "deeplabcut.auxiliaryfunctions.write_plainconfig(trainposeconfigfile, cfg_dlc)"
   ]
  },
  {
   "cell_type": "markdown",
   "id": "b3cb5f00",
   "metadata": {},
   "source": [
    "## Train"
   ]
  },
  {
   "cell_type": "code",
   "execution_count": 8,
   "id": "9dd72a87",
   "metadata": {},
   "outputs": [
    {
     "name": "stderr",
     "output_type": "stream",
     "text": [
      "Config:\n",
      "{'all_joints': [[0],\n",
      "                [1],\n",
      "                [2],\n",
      "                [3],\n",
      "                [4],\n",
      "                [5],\n",
      "                [6],\n",
      "                [7],\n",
      "                [8],\n",
      "                [9],\n",
      "                [10],\n",
      "                [11],\n",
      "                [12],\n",
      "                [13],\n",
      "                [14],\n",
      "                [15]],\n",
      " 'all_joints_names': ['Nose',\n",
      "                      'Lear',\n",
      "                      'Rear',\n",
      "                      'BackofHead',\n",
      "                      'Spine',\n",
      "                      'TailBase',\n",
      "                      'Cricket1',\n",
      "                      'Cricket2',\n",
      "                      'TopRight1',\n",
      "                      'TopRight2',\n",
      "                      'TopLeft1',\n",
      "                      'TopLeft2',\n",
      "                      'BotLeft1',\n",
      "                      'BotLeft2',\n",
      "                      'BotRight1',\n",
      "                      'BotRight2'],\n",
      " 'alpha_r': 0.02,\n",
      " 'apply_prob': 0.5,\n",
      " 'augmentationprobability': 0.5,\n",
      " 'batch_size': 10,\n",
      " 'clahe': True,\n",
      " 'claheratio': 0.1,\n",
      " 'covering': True,\n",
      " 'crop_pad': 0,\n",
      " 'crop_sampling': 'hybrid',\n",
      " 'crop_size': [400, 400],\n",
      " 'cropratio': 0.4,\n",
      " 'dataset': 'training-datasets\\\\iteration-1\\\\UnaugmentedDataSet_BinocularOptoAug12\\\\BinocularOpto_Elliott95shuffle1.mat',\n",
      " 'dataset_type': 'imgaug',\n",
      " 'decay_steps': 30000,\n",
      " 'deterministic': False,\n",
      " 'display_iters': 1000,\n",
      " 'edge': False,\n",
      " 'elastic_transform': True,\n",
      " 'emboss': {'alpha': [0.0, 1.0], 'embossratio': 0.1, 'strength': [0.5, 1.5]},\n",
      " 'fg_fraction': 0.25,\n",
      " 'global_scale': 0.8,\n",
      " 'histeq': True,\n",
      " 'histeqratio': 0.1,\n",
      " 'init_weights': 'T:\\\\deeplabcut_projects\\\\BinocularOpto-Elliott-2021-08-12-new\\\\dlc-models\\\\iteration-0\\\\BinocularOptoAug12-trainset95shuffle1\\\\train\\\\snapshot-275000',\n",
      " 'intermediate_supervision': False,\n",
      " 'intermediate_supervision_layer': 12,\n",
      " 'location_refinement': True,\n",
      " 'locref_huber_loss': True,\n",
      " 'locref_loss_weight': 0.05,\n",
      " 'locref_stdev': 7.2801,\n",
      " 'log_dir': 'log',\n",
      " 'lr_init': 0.0005,\n",
      " 'max_input_size': 1500,\n",
      " 'max_shift': 0.4,\n",
      " 'mean_pixel': [123.68, 116.779, 103.939],\n",
      " 'metadataset': 'training-datasets\\\\iteration-1\\\\UnaugmentedDataSet_BinocularOptoAug12\\\\Documentation_data-BinocularOpto_95shuffle1.pickle',\n",
      " 'min_input_size': 64,\n",
      " 'mirror': False,\n",
      " 'motion_blur': True,\n",
      " 'multi_stage': False,\n",
      " 'multi_step': [[0.0001, 282500], ['5e-05', 287000], ['1e-05', 325000]],\n",
      " 'net_type': 'resnet_50',\n",
      " 'num_joints': 16,\n",
      " 'optimizer': 'adam',\n",
      " 'pairwise_huber_loss': False,\n",
      " 'pairwise_predict': False,\n",
      " 'partaffinityfield_predict': False,\n",
      " 'pos_dist_thresh': 17,\n",
      " 'pre_resize': [],\n",
      " 'project_path': 'T:\\\\deeplabcut_projects\\\\BinocularOpto-Elliott-2021-08-12-new',\n",
      " 'regularize': False,\n",
      " 'rotation': True,\n",
      " 'rotratio': 0.4,\n",
      " 'save_iters': 50000,\n",
      " 'scale_jitter_lo': 0.5,\n",
      " 'scale_jitter_up': 1.5,\n",
      " 'scoremap_dir': 'test',\n",
      " 'sharpen': False,\n",
      " 'sharpenratio': 0.3,\n",
      " 'shuffle': True,\n",
      " 'snapshot_prefix': 'T:\\\\deeplabcut_projects\\\\BinocularOpto-Elliott-2021-08-12-new\\\\dlc-models\\\\iteration-1\\\\BinocularOptoAug12-trainset95shuffle1\\\\train\\\\snapshot',\n",
      " 'stride': 8.0,\n",
      " 'weigh_negatives': False,\n",
      " 'weigh_only_present_joints': False,\n",
      " 'weigh_part_predictions': False,\n",
      " 'weight_decay': 0.0001}\n"
     ]
    },
    {
     "name": "stdout",
     "output_type": "stream",
     "text": [
      "Selecting single-animal trainer\n",
      "Batch Size is 10\n"
     ]
    },
    {
     "name": "stderr",
     "output_type": "stream",
     "text": [
      "C:\\ProgramData\\Anaconda3\\envs\\ephys1-gpu\\lib\\site-packages\\tensorflow\\python\\keras\\engine\\base_layer_v1.py:1694: UserWarning: `layer.apply` is deprecated and will be removed in a future version. Please use `layer.__call__` method instead.\n",
      "  warnings.warn('`layer.apply` is deprecated and '\n"
     ]
    },
    {
     "name": "stdout",
     "output_type": "stream",
     "text": [
      "Loading already trained DLC with backbone: resnet_50\n",
      "Max_iters overwritten as 325000\n",
      "Display_iters overwritten as 500\n",
      "Save_iters overwritten as 10000\n",
      "Training parameter:\n",
      "{'stride': 8.0, 'weigh_part_predictions': False, 'weigh_negatives': False, 'fg_fraction': 0.25, 'mean_pixel': [123.68, 116.779, 103.939], 'shuffle': True, 'snapshot_prefix': 'T:\\\\deeplabcut_projects\\\\BinocularOpto-Elliott-2021-08-12-new\\\\dlc-models\\\\iteration-1\\\\BinocularOptoAug12-trainset95shuffle1\\\\train\\\\snapshot', 'log_dir': 'log', 'global_scale': 0.8, 'location_refinement': True, 'locref_stdev': 7.2801, 'locref_loss_weight': 0.05, 'locref_huber_loss': True, 'optimizer': 'adam', 'intermediate_supervision': False, 'intermediate_supervision_layer': 12, 'regularize': False, 'weight_decay': 0.0001, 'crop_pad': 0, 'scoremap_dir': 'test', 'batch_size': 10, 'dataset_type': 'imgaug', 'deterministic': False, 'mirror': False, 'pairwise_huber_loss': False, 'weigh_only_present_joints': False, 'partaffinityfield_predict': False, 'pairwise_predict': False, 'all_joints': [[0], [1], [2], [3], [4], [5], [6], [7], [8], [9], [10], [11], [12], [13], [14], [15]], 'all_joints_names': ['Nose', 'Lear', 'Rear', 'BackofHead', 'Spine', 'TailBase', 'Cricket1', 'Cricket2', 'TopRight1', 'TopRight2', 'TopLeft1', 'TopLeft2', 'BotLeft1', 'BotLeft2', 'BotRight1', 'BotRight2'], 'alpha_r': 0.02, 'apply_prob': 0.5, 'clahe': True, 'claheratio': 0.1, 'crop_sampling': 'hybrid', 'crop_size': [400, 400], 'cropratio': 0.4, 'dataset': 'training-datasets\\\\iteration-1\\\\UnaugmentedDataSet_BinocularOptoAug12\\\\BinocularOpto_Elliott95shuffle1.mat', 'decay_steps': 30000, 'display_iters': 1000, 'edge': False, 'emboss': {'alpha': [0.0, 1.0], 'embossratio': 0.1, 'strength': [0.5, 1.5]}, 'histeq': True, 'histeqratio': 0.1, 'init_weights': 'T:\\\\deeplabcut_projects\\\\BinocularOpto-Elliott-2021-08-12-new\\\\dlc-models\\\\iteration-0\\\\BinocularOptoAug12-trainset95shuffle1\\\\train\\\\snapshot-275000', 'lr_init': 0.0005, 'max_input_size': 1500, 'max_shift': 0.4, 'metadataset': 'training-datasets\\\\iteration-1\\\\UnaugmentedDataSet_BinocularOptoAug12\\\\Documentation_data-BinocularOpto_95shuffle1.pickle', 'min_input_size': 64, 'multi_stage': False, 'multi_step': [[0.0001, 282500], ['5e-05', 287000], ['1e-05', 325000]], 'net_type': 'resnet_50', 'num_joints': 16, 'pos_dist_thresh': 17, 'pre_resize': [], 'project_path': 'T:\\\\deeplabcut_projects\\\\BinocularOpto-Elliott-2021-08-12-new', 'rotation': 25, 'rotratio': 0.4, 'save_iters': 50000, 'scale_jitter_lo': 0.5, 'scale_jitter_up': 1.5, 'sharpen': False, 'sharpenratio': 0.3, 'augmentationprobability': 0.5, 'elastic_transform': True, 'covering': True, 'motion_blur': True, 'motion_blur_params': {'k': 7, 'angle': (-90, 90)}}\n",
      "Starting training....\n"
     ]
    },
    {
     "name": "stderr",
     "output_type": "stream",
     "text": [
      "iteration: 275500 loss: 0.0030 lr: 0.0001\n",
      "iteration: 276000 loss: 0.0026 lr: 0.0001\n",
      "iteration: 276500 loss: 0.0024 lr: 0.0001\n",
      "iteration: 277000 loss: 0.0023 lr: 0.0001\n",
      "iteration: 277500 loss: 0.0022 lr: 0.0001\n",
      "iteration: 278000 loss: 0.0021 lr: 0.0001\n",
      "iteration: 278500 loss: 0.0021 lr: 0.0001\n",
      "iteration: 279000 loss: 0.0020 lr: 0.0001\n",
      "iteration: 279500 loss: 0.0020 lr: 0.0001\n",
      "iteration: 280000 loss: 0.0019 lr: 0.0001\n",
      "iteration: 280500 loss: 0.0019 lr: 0.0001\n",
      "iteration: 281000 loss: 0.0019 lr: 0.0001\n",
      "iteration: 281500 loss: 0.0019 lr: 0.0001\n",
      "iteration: 282000 loss: 0.0018 lr: 0.0001\n",
      "iteration: 282500 loss: 0.0018 lr: 0.0001\n",
      "iteration: 283000 loss: 0.0015 lr: 5e-05\n",
      "iteration: 283500 loss: 0.0015 lr: 5e-05\n",
      "iteration: 284000 loss: 0.0015 lr: 5e-05\n",
      "iteration: 284500 loss: 0.0014 lr: 5e-05\n",
      "iteration: 285000 loss: 0.0014 lr: 5e-05\n",
      "iteration: 285500 loss: 0.0014 lr: 5e-05\n",
      "iteration: 286000 loss: 0.0014 lr: 5e-05\n",
      "iteration: 286500 loss: 0.0014 lr: 5e-05\n",
      "iteration: 287000 loss: 0.0014 lr: 5e-05\n",
      "iteration: 287500 loss: 0.0012 lr: 1e-05\n",
      "iteration: 288000 loss: 0.0012 lr: 1e-05\n",
      "iteration: 288500 loss: 0.0012 lr: 1e-05\n",
      "iteration: 289000 loss: 0.0012 lr: 1e-05\n",
      "iteration: 289500 loss: 0.0012 lr: 1e-05\n",
      "iteration: 290000 loss: 0.0012 lr: 1e-05\n",
      "iteration: 290500 loss: 0.0012 lr: 1e-05\n",
      "iteration: 291000 loss: 0.0012 lr: 1e-05\n",
      "iteration: 291500 loss: 0.0011 lr: 1e-05\n",
      "iteration: 292000 loss: 0.0012 lr: 1e-05\n",
      "iteration: 292500 loss: 0.0012 lr: 1e-05\n",
      "iteration: 293000 loss: 0.0011 lr: 1e-05\n",
      "iteration: 293500 loss: 0.0011 lr: 1e-05\n",
      "iteration: 294000 loss: 0.0011 lr: 1e-05\n",
      "iteration: 294500 loss: 0.0011 lr: 1e-05\n",
      "iteration: 295000 loss: 0.0011 lr: 1e-05\n",
      "iteration: 295500 loss: 0.0011 lr: 1e-05\n",
      "iteration: 296000 loss: 0.0011 lr: 1e-05\n",
      "iteration: 296500 loss: 0.0011 lr: 1e-05\n",
      "iteration: 297000 loss: 0.0011 lr: 1e-05\n",
      "iteration: 297500 loss: 0.0011 lr: 1e-05\n",
      "iteration: 298000 loss: 0.0011 lr: 1e-05\n",
      "iteration: 298500 loss: 0.0011 lr: 1e-05\n",
      "iteration: 299000 loss: 0.0011 lr: 1e-05\n",
      "iteration: 299500 loss: 0.0011 lr: 1e-05\n",
      "iteration: 300000 loss: 0.0011 lr: 1e-05\n",
      "iteration: 300500 loss: 0.0011 lr: 1e-05\n",
      "iteration: 301000 loss: 0.0011 lr: 1e-05\n",
      "iteration: 301500 loss: 0.0011 lr: 1e-05\n",
      "iteration: 302000 loss: 0.0011 lr: 1e-05\n",
      "iteration: 302500 loss: 0.0011 lr: 1e-05\n",
      "iteration: 303000 loss: 0.0010 lr: 1e-05\n",
      "iteration: 303500 loss: 0.0010 lr: 1e-05\n",
      "iteration: 304000 loss: 0.0011 lr: 1e-05\n",
      "iteration: 304500 loss: 0.0011 lr: 1e-05\n",
      "iteration: 305000 loss: 0.0010 lr: 1e-05\n",
      "iteration: 305500 loss: 0.0010 lr: 1e-05\n",
      "iteration: 306000 loss: 0.0010 lr: 1e-05\n",
      "iteration: 306500 loss: 0.0010 lr: 1e-05\n",
      "iteration: 307000 loss: 0.0010 lr: 1e-05\n",
      "iteration: 307500 loss: 0.0010 lr: 1e-05\n",
      "iteration: 308000 loss: 0.0010 lr: 1e-05\n",
      "iteration: 308500 loss: 0.0010 lr: 1e-05\n",
      "iteration: 309000 loss: 0.0010 lr: 1e-05\n",
      "iteration: 309500 loss: 0.0010 lr: 1e-05\n",
      "iteration: 310000 loss: 0.0010 lr: 1e-05\n",
      "iteration: 310500 loss: 0.0010 lr: 1e-05\n",
      "iteration: 311000 loss: 0.0010 lr: 1e-05\n",
      "iteration: 311500 loss: 0.0010 lr: 1e-05\n",
      "iteration: 312000 loss: 0.0010 lr: 1e-05\n",
      "iteration: 312500 loss: 0.0010 lr: 1e-05\n",
      "iteration: 313000 loss: 0.0010 lr: 1e-05\n",
      "iteration: 313500 loss: 0.0010 lr: 1e-05\n",
      "iteration: 314000 loss: 0.0010 lr: 1e-05\n",
      "iteration: 314500 loss: 0.0010 lr: 1e-05\n",
      "iteration: 315000 loss: 0.0010 lr: 1e-05\n",
      "iteration: 315500 loss: 0.0010 lr: 1e-05\n",
      "iteration: 316000 loss: 0.0010 lr: 1e-05\n",
      "iteration: 316500 loss: 0.0010 lr: 1e-05\n",
      "iteration: 317000 loss: 0.0010 lr: 1e-05\n",
      "iteration: 317500 loss: 0.0010 lr: 1e-05\n",
      "iteration: 318000 loss: 0.0010 lr: 1e-05\n",
      "iteration: 318500 loss: 0.0010 lr: 1e-05\n",
      "iteration: 319000 loss: 0.0010 lr: 1e-05\n",
      "iteration: 319500 loss: 0.0010 lr: 1e-05\n",
      "iteration: 320000 loss: 0.0010 lr: 1e-05\n",
      "iteration: 320500 loss: 0.0010 lr: 1e-05\n",
      "iteration: 321000 loss: 0.0009 lr: 1e-05\n",
      "iteration: 321500 loss: 0.0009 lr: 1e-05\n",
      "iteration: 322000 loss: 0.0009 lr: 1e-05\n",
      "iteration: 322500 loss: 0.0009 lr: 1e-05\n",
      "iteration: 323000 loss: 0.0010 lr: 1e-05\n",
      "iteration: 323500 loss: 0.0009 lr: 1e-05\n",
      "iteration: 324000 loss: 0.0009 lr: 1e-05\n",
      "iteration: 324500 loss: 0.0009 lr: 1e-05\n",
      "iteration: 325000 loss: 0.0009 lr: 1e-05\n",
      "Exception in thread Thread-8:\n",
      "Traceback (most recent call last):\n",
      "  File \"C:\\ProgramData\\Anaconda3\\envs\\ephys1-gpu\\lib\\threading.py\", line 932, in _bootstrap_inner\n",
      "    self.run()\n",
      "  File \"C:\\ProgramData\\Anaconda3\\envs\\ephys1-gpu\\lib\\threading.py\", line 870, in run\n",
      "    self._target(*self._args, **self._kwargs)\n",
      "  File \"C:\\ProgramData\\Anaconda3\\envs\\ephys1-gpu\\lib\\site-packages\\deeplabcut\\pose_estimation_tensorflow\\core\\train.py\", line 82, in load_and_enqueue\n",
      "    sess.run(enqueue_op, feed_dict=food)\n",
      "  File \"C:\\ProgramData\\Anaconda3\\envs\\ephys1-gpu\\lib\\site-packages\\tensorflow\\python\\client\\session.py\", line 967, in run\n",
      "    result = self._run(None, fetches, feed_dict, options_ptr,\n",
      "  File \"C:\\ProgramData\\Anaconda3\\envs\\ephys1-gpu\\lib\\site-packages\\tensorflow\\python\\client\\session.py\", line 1114, in _run\n",
      "    raise RuntimeError('Attempted to use a closed Session.')\n",
      "RuntimeError: Attempted to use a closed Session.\n"
     ]
    },
    {
     "name": "stdout",
     "output_type": "stream",
     "text": [
      "The network is now trained and ready to evaluate. Use the function 'evaluate_network' to evaluate the network.\n"
     ]
    }
   ],
   "source": [
    "deeplabcut.train_network(config_path, allow_growth=True, displayiters=500, maxiters=starting_iters+100000, saveiters=10000)"
   ]
  },
  {
   "cell_type": "markdown",
   "id": "8b7b8c5e",
   "metadata": {},
   "source": [
    "## Evaluate trained network"
   ]
  },
  {
   "cell_type": "code",
   "execution_count": 3,
   "id": "83a7ca1c",
   "metadata": {},
   "outputs": [
    {
     "name": "stdout",
     "output_type": "stream",
     "text": [
      "T:\\deeplabcut_projects\\BinocularOpto-Elliott-2021-08-12-new/evaluation-results/  already exists!\n",
      "Running  DLC_resnet50_BinocularOptoAug12shuffle1_325000  with # of trainingiterations: 325000\n"
     ]
    },
    {
     "name": "stderr",
     "output_type": "stream",
     "text": [
      "C:\\ProgramData\\Anaconda3\\envs\\ephys1-gpu\\lib\\site-packages\\tensorflow\\python\\keras\\engine\\base_layer_v1.py:1694: UserWarning: `layer.apply` is deprecated and will be removed in a future version. Please use `layer.__call__` method instead.\n",
      "  warnings.warn('`layer.apply` is deprecated and '\n"
     ]
    },
    {
     "name": "stdout",
     "output_type": "stream",
     "text": [
      "Analyzing data...\n"
     ]
    },
    {
     "name": "stderr",
     "output_type": "stream",
     "text": [
      "712it [01:07, 10.53it/s]\n"
     ]
    },
    {
     "name": "stdout",
     "output_type": "stream",
     "text": [
      "Done and results stored for snapshot:  snapshot-325000\n",
      "Results for 325000  training iterations: 95 1 train error: 2.31 pixels. Test error: 19.38  pixels.\n",
      "With pcutoff of 0.6  train error: 2.31 pixels. Test error: 18.47 pixels\n",
      "Thereby, the errors are given by the average distances between the labels by DLC and the scorer.\n",
      "Plotting...\n"
     ]
    },
    {
     "name": "stderr",
     "output_type": "stream",
     "text": [
      "100%|████████████████████████████████████████████████████████████████████████████████| 712/712 [04:06<00:00,  2.89it/s]"
     ]
    },
    {
     "name": "stdout",
     "output_type": "stream",
     "text": [
      "The network is evaluated and the results are stored in the subdirectory 'evaluation_results'.\n",
      "If it generalizes well, choose the best model for prediction and update the config file with the appropriate index for the 'snapshotindex'.\n",
      "Use the function 'analyze_video' to make predictions on new videos.\n",
      "Otherwise consider retraining the network (see DeepLabCut workflow Fig 2)\n"
     ]
    },
    {
     "name": "stderr",
     "output_type": "stream",
     "text": [
      "\n"
     ]
    }
   ],
   "source": [
    "deeplabcut.evaluate_network(config_path, plotting=True, trainingsetindex='all')"
   ]
  },
  {
   "cell_type": "markdown",
   "id": "ee452e5b",
   "metadata": {},
   "source": [
    "## Evaluate and plot novel video"
   ]
  },
  {
   "cell_type": "code",
   "execution_count": 5,
   "id": "f7ebe27e",
   "metadata": {},
   "outputs": [
    {
     "name": "stdout",
     "output_type": "stream",
     "text": [
      "Using snapshot-325000 for model T:\\deeplabcut_projects\\BinocularOpto-Elliott-2021-08-12-new\\dlc-models\\iteration-1\\BinocularOptoAug12-trainset95shuffle1\n"
     ]
    },
    {
     "name": "stderr",
     "output_type": "stream",
     "text": [
      "C:\\ProgramData\\Anaconda3\\envs\\ephys1-gpu\\lib\\site-packages\\tensorflow\\python\\keras\\engine\\base_layer_v1.py:1694: UserWarning: `layer.apply` is deprecated and will be removed in a future version. Please use `layer.__call__` method instead.\n",
      "  warnings.warn('`layer.apply` is deprecated and '\n"
     ]
    },
    {
     "name": "stdout",
     "output_type": "stream",
     "text": [
      "Starting to analyze %  C:\\Users\\Niell lab\\Documents\\temp_preycap_dlc\\091621_PV154black_y_Wlb_1_TOP2.avi\n",
      "C:\\Users\\Niell lab\\Documents\\temp_preycap_dlc  already exists!\n",
      "Loading  C:\\Users\\Niell lab\\Documents\\temp_preycap_dlc\\091621_PV154black_y_Wlb_1_TOP2.avi\n",
      "Duration of video [s]:  39.02 , recorded with  60.0 fps!\n",
      "Overall # of frames:  2341  found with (before cropping) frame dimensions:  720 540\n",
      "Starting to extract posture\n"
     ]
    },
    {
     "name": "stderr",
     "output_type": "stream",
     "text": [
      "2346it [00:42, 55.28it/s]"
     ]
    },
    {
     "name": "stdout",
     "output_type": "stream",
     "text": [
      "Saving results in C:\\Users\\Niell lab\\Documents\\temp_preycap_dlc...\n",
      "The videos are analyzed. Now your research can truly start! \n",
      " You can create labeled videos with 'create_labeled_video'\n",
      "If the tracking is not satisfactory for some videos, consider expanding the training set. You can use the function 'extract_outlier_frames' to extract a few representative outlier frames.\n"
     ]
    },
    {
     "name": "stderr",
     "output_type": "stream",
     "text": [
      "\n"
     ]
    },
    {
     "data": {
      "text/plain": [
       "'DLC_resnet50_BinocularOptoAug12shuffle1_325000'"
      ]
     },
     "execution_count": 5,
     "metadata": {},
     "output_type": "execute_result"
    }
   ],
   "source": [
    "deeplabcut.analyze_videos(config_path, [r'C:\\Users\\Niell lab\\Documents\\temp_preycap_dlc\\091621_PV154black_y_Wlb_1_TOP2.avi'])"
   ]
  },
  {
   "cell_type": "code",
   "execution_count": 6,
   "id": "ce357f86",
   "metadata": {},
   "outputs": [],
   "source": [
    "deeplabcut.create_labeled_video(config_path, [r'C:\\Users\\Niell lab\\Documents\\temp_preycap_dlc\\091621_PV154black_y_Wlb_1_TOP2.avi'], save_frames=True, trailpoints=10)"
   ]
  },
  {
   "cell_type": "code",
   "execution_count": null,
   "id": "aa8869a1",
   "metadata": {},
   "outputs": [],
   "source": []
  }
 ],
 "metadata": {
  "kernelspec": {
   "display_name": "Python [conda env:ephys1-gpu]",
   "language": "python",
   "name": "conda-env-ephys1-gpu-py"
  },
  "language_info": {
   "codemirror_mode": {
    "name": "ipython",
    "version": 3
   },
   "file_extension": ".py",
   "mimetype": "text/x-python",
   "name": "python",
   "nbconvert_exporter": "python",
   "pygments_lexer": "ipython3",
   "version": "3.8.12"
  }
 },
 "nbformat": 4,
 "nbformat_minor": 5
}
